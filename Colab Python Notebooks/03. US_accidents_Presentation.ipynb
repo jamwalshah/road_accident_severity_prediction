{
  "nbformat": 4,
  "nbformat_minor": 0,
  "metadata": {
    "colab": {
      "provenance": []
    },
    "kernelspec": {
      "name": "python3",
      "display_name": "Python 3"
    },
    "language_info": {
      "name": "python"
    }
  },
  "cells": [
    {
      "cell_type": "markdown",
      "source": [
        "# Model Building using Pandas"
      ],
      "metadata": {
        "id": "HCp56d22O8bS"
      }
    },
    {
      "cell_type": "markdown",
      "source": [
        "## importing libs"
      ],
      "metadata": {
        "id": "KRgCIp4HkvAv"
      }
    },
    {
      "cell_type": "code",
      "execution_count": null,
      "metadata": {
        "id": "bOgP6b0NBmPQ"
      },
      "outputs": [],
      "source": [
        "import pandas as pd\n",
        "import numpy as np\n",
        "import seaborn as sns\n",
        "import matplotlib.pyplot as plt"
      ]
    },
    {
      "cell_type": "markdown",
      "source": [
        "## setting flags"
      ],
      "metadata": {
        "id": "MyCSfgtjLQyL"
      }
    },
    {
      "cell_type": "code",
      "source": [
        "pd.options.display.max_columns=500\n",
        "pd.options.display.max_rows=200\n",
        "# to set dataframes to show more cols & rows"
      ],
      "metadata": {
        "id": "gj6YzRvuLSyV"
      },
      "execution_count": null,
      "outputs": []
    },
    {
      "cell_type": "markdown",
      "source": [
        "## setting path"
      ],
      "metadata": {
        "id": "-12nxn5n3D6o"
      }
    },
    {
      "cell_type": "code",
      "source": [
        "# from google.colab import files\n",
        "# uploaded = files.upload()\n",
        "\n",
        "# import os\n",
        "# os.chdir('content/drive/MyDrive/PG-DBDA C-DAC Mumbai KH/Final Project/US accident/Datasets')\n",
        "# os.getcwd()\n",
        "# Transformations_output.csv\n",
        "\n",
        "import os\n",
        "os.chdir(r'E:\\Datasets\\US Accidents (2016 - 2023)')\n",
        "os.getcwd()"
      ],
      "metadata": {
        "colab": {
          "base_uri": "https://localhost:8080/"
        },
        "id": "UJBxL2FKD2P7",
        "outputId": "bc4088b6-c742-45a5-e284-2fe48ab866ed"
      },
      "execution_count": null,
      "outputs": [
        {
          "output_type": "execute_result",
          "data": {
            "text/plain": [
              "'E:\\\\Datasets\\\\US Accidents (2016 - 2023)'"
            ]
          },
          "metadata": {},
          "execution_count": 3
        }
      ]
    },
    {
      "cell_type": "markdown",
      "source": [
        "## importing dataset"
      ],
      "metadata": {
        "id": "fUbo01kYKZoP"
      }
    },
    {
      "cell_type": "code",
      "source": [
        "df_mod = pd.read_csv('Transformations_output.csv')"
      ],
      "metadata": {
        "id": "jAJSw6P-KZVe"
      },
      "execution_count": null,
      "outputs": []
    },
    {
      "cell_type": "code",
      "source": [
        "# df_mod['Weather_Condition'].nunique()"
      ],
      "metadata": {
        "colab": {
          "base_uri": "https://localhost:8080/"
        },
        "id": "qUJBdCgh6e4y",
        "outputId": "ea1aabc2-aacb-4d85-c0f9-e830c9cca57a"
      },
      "execution_count": null,
      "outputs": [
        {
          "output_type": "execute_result",
          "data": {
            "text/plain": [
              "12"
            ]
          },
          "metadata": {},
          "execution_count": 43
        }
      ]
    },
    {
      "cell_type": "code",
      "source": [
        "df_mod.shape"
      ],
      "metadata": {
        "colab": {
          "base_uri": "https://localhost:8080/"
        },
        "id": "vDJZhEiFK3Vd",
        "outputId": "099ee341-b973-41e6-bef0-362f53bae7ec"
      },
      "execution_count": null,
      "outputs": [
        {
          "output_type": "execute_result",
          "data": {
            "text/plain": [
              "(3414595, 34)"
            ]
          },
          "metadata": {},
          "execution_count": 5
        }
      ]
    },
    {
      "cell_type": "code",
      "source": [
        "df_mod.head()"
      ],
      "metadata": {
        "colab": {
          "base_uri": "https://localhost:8080/",
          "height": 261
        },
        "id": "JH17yhMsK3R7",
        "outputId": "ea162268-e4de-4ff7-b727-a2b32f9dcff7"
      },
      "execution_count": null,
      "outputs": [
        {
          "output_type": "execute_result",
          "data": {
            "text/plain": [
              "   Severity  Start_Lat  Start_Lng    End_Lat    End_Lng  Distance(mi)  \\\n",
              "0         3  40.108910 -83.092860  40.112060 -83.031870         3.230   \n",
              "1         3  39.172393 -84.492792  39.170476 -84.501798         0.500   \n",
              "2         2  39.192880 -84.477230  39.196150 -84.473350         0.307   \n",
              "3         2  41.473900 -81.704233  41.473880 -81.705590         0.070   \n",
              "4         2  39.582242 -83.677814  39.603013 -83.637319         2.590   \n",
              "\n",
              "         City  Zipcode    Timezone  Temperature(F)  Wind_Chill(F)  \\\n",
              "0      Dublin    43017  US/Eastern            42.1           36.1   \n",
              "1  Cincinnati    45217  US/Eastern            37.0           29.8   \n",
              "2  Cincinnati    45216  US/Eastern            33.8           29.6   \n",
              "3   Cleveland    44113  US/Eastern            33.1           24.4   \n",
              "4   Jamestown    45335  US/Eastern            33.8           28.6   \n",
              "\n",
              "   Humidity(%)  Pressure(in) Wind_Direction  Wind_Speed(mph)  \\\n",
              "0         58.0         29.76             SW             10.4   \n",
              "1         93.0         29.69            WSW             10.4   \n",
              "2        100.0         29.66            NNW              4.6   \n",
              "3         96.0         29.59           West             11.5   \n",
              "4         93.0         29.64           West              5.8   \n",
              "\n",
              "   Precipitation(in) Weather_Condition  Amenity   Bump  Crossing  Junction  \\\n",
              "0               0.00        Light Rain    False  False     False     False   \n",
              "1               0.01        Light Rain    False  False     False     False   \n",
              "2               0.03        Light Snow    False  False     False     False   \n",
              "3               0.00        Light Snow    False  False     False     False   \n",
              "4               0.01        Light Snow    False  False     False     False   \n",
              "\n",
              "   No_Exit  Railway  Station   Stop Sunrise_Sunset  Year MonthC  Month  Day  \\\n",
              "0    False    False    False  False          Night  2016    Feb      2    8   \n",
              "1    False    False    False  False            Day  2016    Feb      2    8   \n",
              "2    False    False    False  False            Day  2016    Feb      2    8   \n",
              "3    False    False    False  False            Day  2016    Feb      2    8   \n",
              "4    False    False    False  False            Day  2016    Feb      2    8   \n",
              "\n",
              "  WeekdayC  Weekday  Hour  Time Duration (min)  \n",
              "0      Mon        1     0                360.0  \n",
              "1      Mon        1     7                360.0  \n",
              "2      Mon        1    15                360.0  \n",
              "3      Mon        1    17                360.0  \n",
              "4      Mon        1    17                360.0  "
            ],
            "text/html": [
              "<div>\n",
              "<style scoped>\n",
              "    .dataframe tbody tr th:only-of-type {\n",
              "        vertical-align: middle;\n",
              "    }\n",
              "\n",
              "    .dataframe tbody tr th {\n",
              "        vertical-align: top;\n",
              "    }\n",
              "\n",
              "    .dataframe thead th {\n",
              "        text-align: right;\n",
              "    }\n",
              "</style>\n",
              "<table border=\"1\" class=\"dataframe\">\n",
              "  <thead>\n",
              "    <tr style=\"text-align: right;\">\n",
              "      <th></th>\n",
              "      <th>Severity</th>\n",
              "      <th>Start_Lat</th>\n",
              "      <th>Start_Lng</th>\n",
              "      <th>End_Lat</th>\n",
              "      <th>End_Lng</th>\n",
              "      <th>Distance(mi)</th>\n",
              "      <th>City</th>\n",
              "      <th>Zipcode</th>\n",
              "      <th>Timezone</th>\n",
              "      <th>Temperature(F)</th>\n",
              "      <th>Wind_Chill(F)</th>\n",
              "      <th>Humidity(%)</th>\n",
              "      <th>Pressure(in)</th>\n",
              "      <th>Wind_Direction</th>\n",
              "      <th>Wind_Speed(mph)</th>\n",
              "      <th>Precipitation(in)</th>\n",
              "      <th>Weather_Condition</th>\n",
              "      <th>Amenity</th>\n",
              "      <th>Bump</th>\n",
              "      <th>Crossing</th>\n",
              "      <th>Junction</th>\n",
              "      <th>No_Exit</th>\n",
              "      <th>Railway</th>\n",
              "      <th>Station</th>\n",
              "      <th>Stop</th>\n",
              "      <th>Sunrise_Sunset</th>\n",
              "      <th>Year</th>\n",
              "      <th>MonthC</th>\n",
              "      <th>Month</th>\n",
              "      <th>Day</th>\n",
              "      <th>WeekdayC</th>\n",
              "      <th>Weekday</th>\n",
              "      <th>Hour</th>\n",
              "      <th>Time Duration (min)</th>\n",
              "    </tr>\n",
              "  </thead>\n",
              "  <tbody>\n",
              "    <tr>\n",
              "      <th>0</th>\n",
              "      <td>3</td>\n",
              "      <td>40.108910</td>\n",
              "      <td>-83.092860</td>\n",
              "      <td>40.112060</td>\n",
              "      <td>-83.031870</td>\n",
              "      <td>3.230</td>\n",
              "      <td>Dublin</td>\n",
              "      <td>43017</td>\n",
              "      <td>US/Eastern</td>\n",
              "      <td>42.1</td>\n",
              "      <td>36.1</td>\n",
              "      <td>58.0</td>\n",
              "      <td>29.76</td>\n",
              "      <td>SW</td>\n",
              "      <td>10.4</td>\n",
              "      <td>0.00</td>\n",
              "      <td>Light Rain</td>\n",
              "      <td>False</td>\n",
              "      <td>False</td>\n",
              "      <td>False</td>\n",
              "      <td>False</td>\n",
              "      <td>False</td>\n",
              "      <td>False</td>\n",
              "      <td>False</td>\n",
              "      <td>False</td>\n",
              "      <td>Night</td>\n",
              "      <td>2016</td>\n",
              "      <td>Feb</td>\n",
              "      <td>2</td>\n",
              "      <td>8</td>\n",
              "      <td>Mon</td>\n",
              "      <td>1</td>\n",
              "      <td>0</td>\n",
              "      <td>360.0</td>\n",
              "    </tr>\n",
              "    <tr>\n",
              "      <th>1</th>\n",
              "      <td>3</td>\n",
              "      <td>39.172393</td>\n",
              "      <td>-84.492792</td>\n",
              "      <td>39.170476</td>\n",
              "      <td>-84.501798</td>\n",
              "      <td>0.500</td>\n",
              "      <td>Cincinnati</td>\n",
              "      <td>45217</td>\n",
              "      <td>US/Eastern</td>\n",
              "      <td>37.0</td>\n",
              "      <td>29.8</td>\n",
              "      <td>93.0</td>\n",
              "      <td>29.69</td>\n",
              "      <td>WSW</td>\n",
              "      <td>10.4</td>\n",
              "      <td>0.01</td>\n",
              "      <td>Light Rain</td>\n",
              "      <td>False</td>\n",
              "      <td>False</td>\n",
              "      <td>False</td>\n",
              "      <td>False</td>\n",
              "      <td>False</td>\n",
              "      <td>False</td>\n",
              "      <td>False</td>\n",
              "      <td>False</td>\n",
              "      <td>Day</td>\n",
              "      <td>2016</td>\n",
              "      <td>Feb</td>\n",
              "      <td>2</td>\n",
              "      <td>8</td>\n",
              "      <td>Mon</td>\n",
              "      <td>1</td>\n",
              "      <td>7</td>\n",
              "      <td>360.0</td>\n",
              "    </tr>\n",
              "    <tr>\n",
              "      <th>2</th>\n",
              "      <td>2</td>\n",
              "      <td>39.192880</td>\n",
              "      <td>-84.477230</td>\n",
              "      <td>39.196150</td>\n",
              "      <td>-84.473350</td>\n",
              "      <td>0.307</td>\n",
              "      <td>Cincinnati</td>\n",
              "      <td>45216</td>\n",
              "      <td>US/Eastern</td>\n",
              "      <td>33.8</td>\n",
              "      <td>29.6</td>\n",
              "      <td>100.0</td>\n",
              "      <td>29.66</td>\n",
              "      <td>NNW</td>\n",
              "      <td>4.6</td>\n",
              "      <td>0.03</td>\n",
              "      <td>Light Snow</td>\n",
              "      <td>False</td>\n",
              "      <td>False</td>\n",
              "      <td>False</td>\n",
              "      <td>False</td>\n",
              "      <td>False</td>\n",
              "      <td>False</td>\n",
              "      <td>False</td>\n",
              "      <td>False</td>\n",
              "      <td>Day</td>\n",
              "      <td>2016</td>\n",
              "      <td>Feb</td>\n",
              "      <td>2</td>\n",
              "      <td>8</td>\n",
              "      <td>Mon</td>\n",
              "      <td>1</td>\n",
              "      <td>15</td>\n",
              "      <td>360.0</td>\n",
              "    </tr>\n",
              "    <tr>\n",
              "      <th>3</th>\n",
              "      <td>2</td>\n",
              "      <td>41.473900</td>\n",
              "      <td>-81.704233</td>\n",
              "      <td>41.473880</td>\n",
              "      <td>-81.705590</td>\n",
              "      <td>0.070</td>\n",
              "      <td>Cleveland</td>\n",
              "      <td>44113</td>\n",
              "      <td>US/Eastern</td>\n",
              "      <td>33.1</td>\n",
              "      <td>24.4</td>\n",
              "      <td>96.0</td>\n",
              "      <td>29.59</td>\n",
              "      <td>West</td>\n",
              "      <td>11.5</td>\n",
              "      <td>0.00</td>\n",
              "      <td>Light Snow</td>\n",
              "      <td>False</td>\n",
              "      <td>False</td>\n",
              "      <td>False</td>\n",
              "      <td>False</td>\n",
              "      <td>False</td>\n",
              "      <td>False</td>\n",
              "      <td>False</td>\n",
              "      <td>False</td>\n",
              "      <td>Day</td>\n",
              "      <td>2016</td>\n",
              "      <td>Feb</td>\n",
              "      <td>2</td>\n",
              "      <td>8</td>\n",
              "      <td>Mon</td>\n",
              "      <td>1</td>\n",
              "      <td>17</td>\n",
              "      <td>360.0</td>\n",
              "    </tr>\n",
              "    <tr>\n",
              "      <th>4</th>\n",
              "      <td>2</td>\n",
              "      <td>39.582242</td>\n",
              "      <td>-83.677814</td>\n",
              "      <td>39.603013</td>\n",
              "      <td>-83.637319</td>\n",
              "      <td>2.590</td>\n",
              "      <td>Jamestown</td>\n",
              "      <td>45335</td>\n",
              "      <td>US/Eastern</td>\n",
              "      <td>33.8</td>\n",
              "      <td>28.6</td>\n",
              "      <td>93.0</td>\n",
              "      <td>29.64</td>\n",
              "      <td>West</td>\n",
              "      <td>5.8</td>\n",
              "      <td>0.01</td>\n",
              "      <td>Light Snow</td>\n",
              "      <td>False</td>\n",
              "      <td>False</td>\n",
              "      <td>False</td>\n",
              "      <td>False</td>\n",
              "      <td>False</td>\n",
              "      <td>False</td>\n",
              "      <td>False</td>\n",
              "      <td>False</td>\n",
              "      <td>Day</td>\n",
              "      <td>2016</td>\n",
              "      <td>Feb</td>\n",
              "      <td>2</td>\n",
              "      <td>8</td>\n",
              "      <td>Mon</td>\n",
              "      <td>1</td>\n",
              "      <td>17</td>\n",
              "      <td>360.0</td>\n",
              "    </tr>\n",
              "  </tbody>\n",
              "</table>\n",
              "</div>"
            ]
          },
          "metadata": {},
          "execution_count": 6
        }
      ]
    },
    {
      "cell_type": "code",
      "source": [
        "df_mod.info()"
      ],
      "metadata": {
        "colab": {
          "base_uri": "https://localhost:8080/"
        },
        "id": "zLbllgBAK3QO",
        "outputId": "8722f65a-718b-45f0-e12a-a1ff1428ebe2"
      },
      "execution_count": null,
      "outputs": [
        {
          "output_type": "stream",
          "name": "stdout",
          "text": [
            "<class 'pandas.core.frame.DataFrame'>\n",
            "RangeIndex: 3414595 entries, 0 to 3414594\n",
            "Data columns (total 34 columns):\n",
            " #   Column               Dtype  \n",
            "---  ------               -----  \n",
            " 0   Severity             int64  \n",
            " 1   Start_Lat            float64\n",
            " 2   Start_Lng            float64\n",
            " 3   End_Lat              float64\n",
            " 4   End_Lng              float64\n",
            " 5   Distance(mi)         float64\n",
            " 6   City                 object \n",
            " 7   Zipcode              int64  \n",
            " 8   Timezone             object \n",
            " 9   Temperature(F)       float64\n",
            " 10  Wind_Chill(F)        float64\n",
            " 11  Humidity(%)          float64\n",
            " 12  Pressure(in)         float64\n",
            " 13  Wind_Direction       object \n",
            " 14  Wind_Speed(mph)      float64\n",
            " 15  Precipitation(in)    float64\n",
            " 16  Weather_Condition    object \n",
            " 17  Amenity              bool   \n",
            " 18  Bump                 bool   \n",
            " 19  Crossing             bool   \n",
            " 20  Junction             bool   \n",
            " 21  No_Exit              bool   \n",
            " 22  Railway              bool   \n",
            " 23  Station              bool   \n",
            " 24  Stop                 bool   \n",
            " 25  Sunrise_Sunset       object \n",
            " 26  Year                 int64  \n",
            " 27  MonthC               object \n",
            " 28  Month                int64  \n",
            " 29  Day                  int64  \n",
            " 30  WeekdayC             object \n",
            " 31  Weekday              int64  \n",
            " 32  Hour                 int64  \n",
            " 33  Time Duration (min)  float64\n",
            "dtypes: bool(8), float64(12), int64(7), object(7)\n",
            "memory usage: 703.4+ MB\n"
          ]
        }
      ]
    },
    {
      "cell_type": "markdown",
      "source": [
        "## Column Operations"
      ],
      "metadata": {
        "id": "iR521oRlzw3G"
      }
    },
    {
      "cell_type": "markdown",
      "source": [
        "### Analysis of Categorical columns"
      ],
      "metadata": {
        "id": "tf2YIzB2NmtY"
      }
    },
    {
      "cell_type": "markdown",
      "source": [
        "#### Number of unique values for each column"
      ],
      "metadata": {
        "id": "VJtYxF1e_b5P"
      }
    },
    {
      "cell_type": "code",
      "source": [
        "df_mod[['WeekdayC', 'MonthC', 'City', 'Timezone', 'Wind_Direction', 'Weather_Condition', 'Sunrise_Sunset']].nunique().sort_values()"
      ],
      "metadata": {
        "colab": {
          "base_uri": "https://localhost:8080/"
        },
        "id": "1QqG2wV--WHi",
        "outputId": "5354cf98-9c47-4d08-9a94-c359ee01ea68"
      },
      "execution_count": null,
      "outputs": [
        {
          "output_type": "execute_result",
          "data": {
            "text/plain": [
              "Sunrise_Sunset           2\n",
              "Timezone                 4\n",
              "WeekdayC                 7\n",
              "MonthC                  12\n",
              "Weather_Condition       12\n",
              "Wind_Direction          23\n",
              "City                 10251\n",
              "dtype: int64"
            ]
          },
          "metadata": {},
          "execution_count": 8
        }
      ]
    },
    {
      "cell_type": "markdown",
      "source": [
        "#### Note for Categorical columns\n",
        "- ```WeekdayC``` can be removed as there is another column ```Weekday``` that represents same information, but in numeric format\n",
        "- ```MonthC``` can be removed as there is another column ```Month``` that represents same information, but in numeric format\n",
        "- ```Wind_Direction``` can be removed as it can be represented by other weather related columns in the dataset"
      ],
      "metadata": {
        "id": "jhWmEOBSWMiY"
      }
    },
    {
      "cell_type": "code",
      "source": [
        "similar_data_cols = ['WeekdayC', 'MonthC', 'Wind_Direction']"
      ],
      "metadata": {
        "id": "Sv9L7MYS_RQw"
      },
      "execution_count": null,
      "outputs": []
    },
    {
      "cell_type": "markdown",
      "source": [
        "#### dropping unwantwed columns"
      ],
      "metadata": {
        "id": "HAa0jYOoMClX"
      }
    },
    {
      "cell_type": "code",
      "source": [
        "df_mod.drop(similar_data_cols, axis=1, inplace=True)"
      ],
      "metadata": {
        "id": "5Hhbrvw6K3Gj"
      },
      "execution_count": null,
      "outputs": []
    },
    {
      "cell_type": "markdown",
      "source": [
        "### Encoding categorical value columns to numerical values"
      ],
      "metadata": {
        "id": "PteDNoqx0Ywe"
      }
    },
    {
      "cell_type": "markdown",
      "source": [
        "#### identifying columns with categorical values"
      ],
      "metadata": {
        "id": "0x37Z54j0Oyf"
      }
    },
    {
      "cell_type": "code",
      "source": [
        "# categorical col titles\n",
        "str_cols = []\n",
        "for i in df_mod.columns:\n",
        "    if df_mod[i].dtypes == 'object' :\n",
        "        str_cols.append(i)\n",
        "str_cols"
      ],
      "metadata": {
        "colab": {
          "base_uri": "https://localhost:8080/"
        },
        "id": "CSg4Yrf3CN_q",
        "outputId": "d7fe0e97-25be-4f59-b7bd-f01f0774306c"
      },
      "execution_count": null,
      "outputs": [
        {
          "output_type": "execute_result",
          "data": {
            "text/plain": [
              "['City', 'Timezone', 'Weather_Condition', 'Sunrise_Sunset']"
            ]
          },
          "metadata": {},
          "execution_count": 11
        }
      ]
    },
    {
      "cell_type": "markdown",
      "source": [
        "#### creating ndarray of categorical columns to use as input to encoder"
      ],
      "metadata": {
        "id": "arvSTQ8J0VqX"
      }
    },
    {
      "cell_type": "code",
      "source": [
        "# converting categorical columns into ndarray\n",
        "enc_input = df_mod[['City', 'Timezone', 'Weather_Condition', 'Sunrise_Sunset']].values\n",
        "enc_input"
      ],
      "metadata": {
        "colab": {
          "base_uri": "https://localhost:8080/"
        },
        "id": "qA39LybZCN8J",
        "outputId": "2075c25b-3fee-4773-c177-d9b7df84bbb1"
      },
      "execution_count": null,
      "outputs": [
        {
          "output_type": "execute_result",
          "data": {
            "text/plain": [
              "array([['Dublin', 'US/Eastern', 'Light Rain', 'Night'],\n",
              "       ['Cincinnati', 'US/Eastern', 'Light Rain', 'Day'],\n",
              "       ['Cincinnati', 'US/Eastern', 'Light Snow', 'Day'],\n",
              "       ...,\n",
              "       ['Orange', 'US/Pacific', 'Partly Cloudy', 'Day'],\n",
              "       ['Culver City', 'US/Pacific', 'Fair', 'Day'],\n",
              "       ['Highland', 'US/Pacific', 'Fair', 'Day']], dtype=object)"
            ]
          },
          "metadata": {},
          "execution_count": 12
        }
      ]
    },
    {
      "cell_type": "code",
      "source": [
        "# Weather_Condition_categories = df_mod['Weather_Condition'].unique()\n",
        "# sorted(list(Weather_Condition_categories))"
      ],
      "metadata": {
        "colab": {
          "base_uri": "https://localhost:8080/"
        },
        "id": "AdTCe_5a_C3J",
        "outputId": "ca251f94-3ef6-4f7a-c6a3-2c2804f1069d"
      },
      "execution_count": null,
      "outputs": [
        {
          "output_type": "execute_result",
          "data": {
            "text/plain": [
              "['Cloudy',\n",
              " 'Fair',\n",
              " 'Fair / Windy',\n",
              " 'Fog',\n",
              " 'Haze',\n",
              " 'Heavy Rain',\n",
              " 'Light Rain',\n",
              " 'Light Snow',\n",
              " 'Mostly Cloudy',\n",
              " 'Partly Cloudy',\n",
              " 'Rain',\n",
              " 'Thunder in the Vicinity']"
            ]
          },
          "metadata": {},
          "execution_count": 23
        }
      ]
    },
    {
      "cell_type": "markdown",
      "source": [
        "#### using LabelEncoder"
      ],
      "metadata": {
        "id": "RzbtQML_0hFe"
      }
    },
    {
      "cell_type": "code",
      "source": [
        "from sklearn.preprocessing import LabelEncoder"
      ],
      "metadata": {
        "id": "uH-DKDQ535Cj"
      },
      "execution_count": null,
      "outputs": []
    },
    {
      "cell_type": "code",
      "source": [
        "lc = LabelEncoder()"
      ],
      "metadata": {
        "id": "zqtD3UtUK3Er"
      },
      "execution_count": null,
      "outputs": []
    },
    {
      "cell_type": "markdown",
      "source": [
        "#### Label Encoding 5 columns with categorical values"
      ],
      "metadata": {
        "id": "86vdFiKc0maR"
      }
    },
    {
      "cell_type": "code",
      "source": [
        "labeled_col_City = lc.fit_transform(enc_input[ : , 0])\n",
        "labeled_col_Timezone = lc.fit_transform(enc_input[ : , 1])\n",
        "labeled_col_Weather_Condition = lc.fit_transform(enc_input[ : , 2])\n",
        "labeled_col_Sunrise_Sunset = lc.fit_transform(enc_input[ : , 3])"
      ],
      "metadata": {
        "id": "fwbztS1-JEVS"
      },
      "execution_count": null,
      "outputs": []
    },
    {
      "cell_type": "markdown",
      "source": [
        "#### Replacing categorical values with Label Encoded values in data set"
      ],
      "metadata": {
        "id": "22B47fsE05Vd"
      }
    },
    {
      "cell_type": "code",
      "source": [
        "df_mod['City'] = pd.Series(labeled_col_City)\n",
        "df_mod['Timezone'] = pd.Series(labeled_col_Timezone)\n",
        "df_mod['Weather_Condition'] = pd.Series(labeled_col_Weather_Condition)\n",
        "df_mod['Sunrise_Sunset'] = pd.Series(labeled_col_Sunrise_Sunset)"
      ],
      "metadata": {
        "id": "OcYmmZd1JERy"
      },
      "execution_count": null,
      "outputs": []
    },
    {
      "cell_type": "code",
      "source": [
        "df_mod.head()"
      ],
      "metadata": {
        "colab": {
          "base_uri": "https://localhost:8080/",
          "height": 261
        },
        "id": "0JAMcK81MUHT",
        "outputId": "849f93b5-3226-4d78-ed00-15c29ef636ba"
      },
      "execution_count": null,
      "outputs": [
        {
          "output_type": "execute_result",
          "data": {
            "text/plain": [
              "   Severity  Start_Lat  Start_Lng    End_Lat    End_Lng  Distance(mi)  City  \\\n",
              "0         3  40.108910 -83.092860  40.112060 -83.031870         3.230  2451   \n",
              "1         3  39.172393 -84.492792  39.170476 -84.501798         0.500  1657   \n",
              "2         2  39.192880 -84.477230  39.196150 -84.473350         0.307  1657   \n",
              "3         2  41.473900 -81.704233  41.473880 -81.705590         0.070  1732   \n",
              "4         2  39.582242 -83.677814  39.603013 -83.637319         2.590  4413   \n",
              "\n",
              "   Zipcode  Timezone  Temperature(F)  Wind_Chill(F)  Humidity(%)  \\\n",
              "0    43017         1            42.1           36.1         58.0   \n",
              "1    45217         1            37.0           29.8         93.0   \n",
              "2    45216         1            33.8           29.6        100.0   \n",
              "3    44113         1            33.1           24.4         96.0   \n",
              "4    45335         1            33.8           28.6         93.0   \n",
              "\n",
              "   Pressure(in)  Wind_Speed(mph)  Precipitation(in)  Weather_Condition  \\\n",
              "0         29.76             10.4               0.00                  6   \n",
              "1         29.69             10.4               0.01                  6   \n",
              "2         29.66              4.6               0.03                  7   \n",
              "3         29.59             11.5               0.00                  7   \n",
              "4         29.64              5.8               0.01                  7   \n",
              "\n",
              "   Amenity   Bump  Crossing  Junction  No_Exit  Railway  Station   Stop  \\\n",
              "0    False  False     False     False    False    False    False  False   \n",
              "1    False  False     False     False    False    False    False  False   \n",
              "2    False  False     False     False    False    False    False  False   \n",
              "3    False  False     False     False    False    False    False  False   \n",
              "4    False  False     False     False    False    False    False  False   \n",
              "\n",
              "   Sunrise_Sunset  Year  Month  Day  Weekday  Hour  Time Duration (min)  \n",
              "0               1  2016      2    8        1     0                360.0  \n",
              "1               0  2016      2    8        1     7                360.0  \n",
              "2               0  2016      2    8        1    15                360.0  \n",
              "3               0  2016      2    8        1    17                360.0  \n",
              "4               0  2016      2    8        1    17                360.0  "
            ],
            "text/html": [
              "<div>\n",
              "<style scoped>\n",
              "    .dataframe tbody tr th:only-of-type {\n",
              "        vertical-align: middle;\n",
              "    }\n",
              "\n",
              "    .dataframe tbody tr th {\n",
              "        vertical-align: top;\n",
              "    }\n",
              "\n",
              "    .dataframe thead th {\n",
              "        text-align: right;\n",
              "    }\n",
              "</style>\n",
              "<table border=\"1\" class=\"dataframe\">\n",
              "  <thead>\n",
              "    <tr style=\"text-align: right;\">\n",
              "      <th></th>\n",
              "      <th>Severity</th>\n",
              "      <th>Start_Lat</th>\n",
              "      <th>Start_Lng</th>\n",
              "      <th>End_Lat</th>\n",
              "      <th>End_Lng</th>\n",
              "      <th>Distance(mi)</th>\n",
              "      <th>City</th>\n",
              "      <th>Zipcode</th>\n",
              "      <th>Timezone</th>\n",
              "      <th>Temperature(F)</th>\n",
              "      <th>Wind_Chill(F)</th>\n",
              "      <th>Humidity(%)</th>\n",
              "      <th>Pressure(in)</th>\n",
              "      <th>Wind_Speed(mph)</th>\n",
              "      <th>Precipitation(in)</th>\n",
              "      <th>Weather_Condition</th>\n",
              "      <th>Amenity</th>\n",
              "      <th>Bump</th>\n",
              "      <th>Crossing</th>\n",
              "      <th>Junction</th>\n",
              "      <th>No_Exit</th>\n",
              "      <th>Railway</th>\n",
              "      <th>Station</th>\n",
              "      <th>Stop</th>\n",
              "      <th>Sunrise_Sunset</th>\n",
              "      <th>Year</th>\n",
              "      <th>Month</th>\n",
              "      <th>Day</th>\n",
              "      <th>Weekday</th>\n",
              "      <th>Hour</th>\n",
              "      <th>Time Duration (min)</th>\n",
              "    </tr>\n",
              "  </thead>\n",
              "  <tbody>\n",
              "    <tr>\n",
              "      <th>0</th>\n",
              "      <td>3</td>\n",
              "      <td>40.108910</td>\n",
              "      <td>-83.092860</td>\n",
              "      <td>40.112060</td>\n",
              "      <td>-83.031870</td>\n",
              "      <td>3.230</td>\n",
              "      <td>2451</td>\n",
              "      <td>43017</td>\n",
              "      <td>1</td>\n",
              "      <td>42.1</td>\n",
              "      <td>36.1</td>\n",
              "      <td>58.0</td>\n",
              "      <td>29.76</td>\n",
              "      <td>10.4</td>\n",
              "      <td>0.00</td>\n",
              "      <td>6</td>\n",
              "      <td>False</td>\n",
              "      <td>False</td>\n",
              "      <td>False</td>\n",
              "      <td>False</td>\n",
              "      <td>False</td>\n",
              "      <td>False</td>\n",
              "      <td>False</td>\n",
              "      <td>False</td>\n",
              "      <td>1</td>\n",
              "      <td>2016</td>\n",
              "      <td>2</td>\n",
              "      <td>8</td>\n",
              "      <td>1</td>\n",
              "      <td>0</td>\n",
              "      <td>360.0</td>\n",
              "    </tr>\n",
              "    <tr>\n",
              "      <th>1</th>\n",
              "      <td>3</td>\n",
              "      <td>39.172393</td>\n",
              "      <td>-84.492792</td>\n",
              "      <td>39.170476</td>\n",
              "      <td>-84.501798</td>\n",
              "      <td>0.500</td>\n",
              "      <td>1657</td>\n",
              "      <td>45217</td>\n",
              "      <td>1</td>\n",
              "      <td>37.0</td>\n",
              "      <td>29.8</td>\n",
              "      <td>93.0</td>\n",
              "      <td>29.69</td>\n",
              "      <td>10.4</td>\n",
              "      <td>0.01</td>\n",
              "      <td>6</td>\n",
              "      <td>False</td>\n",
              "      <td>False</td>\n",
              "      <td>False</td>\n",
              "      <td>False</td>\n",
              "      <td>False</td>\n",
              "      <td>False</td>\n",
              "      <td>False</td>\n",
              "      <td>False</td>\n",
              "      <td>0</td>\n",
              "      <td>2016</td>\n",
              "      <td>2</td>\n",
              "      <td>8</td>\n",
              "      <td>1</td>\n",
              "      <td>7</td>\n",
              "      <td>360.0</td>\n",
              "    </tr>\n",
              "    <tr>\n",
              "      <th>2</th>\n",
              "      <td>2</td>\n",
              "      <td>39.192880</td>\n",
              "      <td>-84.477230</td>\n",
              "      <td>39.196150</td>\n",
              "      <td>-84.473350</td>\n",
              "      <td>0.307</td>\n",
              "      <td>1657</td>\n",
              "      <td>45216</td>\n",
              "      <td>1</td>\n",
              "      <td>33.8</td>\n",
              "      <td>29.6</td>\n",
              "      <td>100.0</td>\n",
              "      <td>29.66</td>\n",
              "      <td>4.6</td>\n",
              "      <td>0.03</td>\n",
              "      <td>7</td>\n",
              "      <td>False</td>\n",
              "      <td>False</td>\n",
              "      <td>False</td>\n",
              "      <td>False</td>\n",
              "      <td>False</td>\n",
              "      <td>False</td>\n",
              "      <td>False</td>\n",
              "      <td>False</td>\n",
              "      <td>0</td>\n",
              "      <td>2016</td>\n",
              "      <td>2</td>\n",
              "      <td>8</td>\n",
              "      <td>1</td>\n",
              "      <td>15</td>\n",
              "      <td>360.0</td>\n",
              "    </tr>\n",
              "    <tr>\n",
              "      <th>3</th>\n",
              "      <td>2</td>\n",
              "      <td>41.473900</td>\n",
              "      <td>-81.704233</td>\n",
              "      <td>41.473880</td>\n",
              "      <td>-81.705590</td>\n",
              "      <td>0.070</td>\n",
              "      <td>1732</td>\n",
              "      <td>44113</td>\n",
              "      <td>1</td>\n",
              "      <td>33.1</td>\n",
              "      <td>24.4</td>\n",
              "      <td>96.0</td>\n",
              "      <td>29.59</td>\n",
              "      <td>11.5</td>\n",
              "      <td>0.00</td>\n",
              "      <td>7</td>\n",
              "      <td>False</td>\n",
              "      <td>False</td>\n",
              "      <td>False</td>\n",
              "      <td>False</td>\n",
              "      <td>False</td>\n",
              "      <td>False</td>\n",
              "      <td>False</td>\n",
              "      <td>False</td>\n",
              "      <td>0</td>\n",
              "      <td>2016</td>\n",
              "      <td>2</td>\n",
              "      <td>8</td>\n",
              "      <td>1</td>\n",
              "      <td>17</td>\n",
              "      <td>360.0</td>\n",
              "    </tr>\n",
              "    <tr>\n",
              "      <th>4</th>\n",
              "      <td>2</td>\n",
              "      <td>39.582242</td>\n",
              "      <td>-83.677814</td>\n",
              "      <td>39.603013</td>\n",
              "      <td>-83.637319</td>\n",
              "      <td>2.590</td>\n",
              "      <td>4413</td>\n",
              "      <td>45335</td>\n",
              "      <td>1</td>\n",
              "      <td>33.8</td>\n",
              "      <td>28.6</td>\n",
              "      <td>93.0</td>\n",
              "      <td>29.64</td>\n",
              "      <td>5.8</td>\n",
              "      <td>0.01</td>\n",
              "      <td>7</td>\n",
              "      <td>False</td>\n",
              "      <td>False</td>\n",
              "      <td>False</td>\n",
              "      <td>False</td>\n",
              "      <td>False</td>\n",
              "      <td>False</td>\n",
              "      <td>False</td>\n",
              "      <td>False</td>\n",
              "      <td>0</td>\n",
              "      <td>2016</td>\n",
              "      <td>2</td>\n",
              "      <td>8</td>\n",
              "      <td>1</td>\n",
              "      <td>17</td>\n",
              "      <td>360.0</td>\n",
              "    </tr>\n",
              "  </tbody>\n",
              "</table>\n",
              "</div>"
            ]
          },
          "metadata": {},
          "execution_count": 17
        }
      ]
    },
    {
      "cell_type": "code",
      "source": [
        "# sorted(df_mod['Weather_Condition'].unique())"
      ],
      "metadata": {
        "colab": {
          "base_uri": "https://localhost:8080/"
        },
        "id": "WZwUuAxr6F6g",
        "outputId": "a840afd1-a70f-4aac-ef41-ad5ae9047a4c"
      },
      "execution_count": null,
      "outputs": [
        {
          "output_type": "execute_result",
          "data": {
            "text/plain": [
              "[0, 1, 2, 3, 4, 5, 6, 7, 8, 9, 10, 11]"
            ]
          },
          "metadata": {},
          "execution_count": 22
        }
      ]
    },
    {
      "cell_type": "code",
      "source": [
        "df_mod.info()"
      ],
      "metadata": {
        "colab": {
          "base_uri": "https://localhost:8080/"
        },
        "id": "s7DoAZoaIh-e",
        "outputId": "887e3c3a-7931-47e6-acec-4d08dc6621f7"
      },
      "execution_count": null,
      "outputs": [
        {
          "output_type": "stream",
          "name": "stdout",
          "text": [
            "<class 'pandas.core.frame.DataFrame'>\n",
            "RangeIndex: 3414595 entries, 0 to 3414594\n",
            "Data columns (total 31 columns):\n",
            " #   Column               Dtype  \n",
            "---  ------               -----  \n",
            " 0   Severity             int64  \n",
            " 1   Start_Lat            float64\n",
            " 2   Start_Lng            float64\n",
            " 3   End_Lat              float64\n",
            " 4   End_Lng              float64\n",
            " 5   Distance(mi)         float64\n",
            " 6   City                 int32  \n",
            " 7   Zipcode              int64  \n",
            " 8   Timezone             int32  \n",
            " 9   Temperature(F)       float64\n",
            " 10  Wind_Chill(F)        float64\n",
            " 11  Humidity(%)          float64\n",
            " 12  Pressure(in)         float64\n",
            " 13  Wind_Speed(mph)      float64\n",
            " 14  Precipitation(in)    float64\n",
            " 15  Weather_Condition    int32  \n",
            " 16  Amenity              bool   \n",
            " 17  Bump                 bool   \n",
            " 18  Crossing             bool   \n",
            " 19  Junction             bool   \n",
            " 20  No_Exit              bool   \n",
            " 21  Railway              bool   \n",
            " 22  Station              bool   \n",
            " 23  Stop                 bool   \n",
            " 24  Sunrise_Sunset       int32  \n",
            " 25  Year                 int64  \n",
            " 26  Month                int64  \n",
            " 27  Day                  int64  \n",
            " 28  Weekday              int64  \n",
            " 29  Hour                 int64  \n",
            " 30  Time Duration (min)  float64\n",
            "dtypes: bool(8), float64(12), int32(4), int64(7)\n",
            "memory usage: 573.1 MB\n"
          ]
        }
      ]
    },
    {
      "cell_type": "code",
      "source": [
        "df_mod.describe()"
      ],
      "metadata": {
        "colab": {
          "base_uri": "https://localhost:8080/",
          "height": 355
        },
        "id": "X65OTvYkO7gq",
        "outputId": "8c3ba641-73fd-4986-da66-14c5b7bb229b"
      },
      "execution_count": null,
      "outputs": [
        {
          "output_type": "execute_result",
          "data": {
            "text/plain": [
              "           Severity     Start_Lat     Start_Lng       End_Lat       End_Lng  \\\n",
              "count  3.414595e+06  3.414595e+06  3.414595e+06  3.414595e+06  3.414595e+06   \n",
              "mean   2.073957e+00  3.606361e+01 -9.537304e+01  3.606380e+01 -9.537271e+01   \n",
              "std    3.816288e-01  5.315566e+00  1.807716e+01  5.315740e+00  1.807685e+01   \n",
              "min    1.000000e+00  2.456603e+01 -1.245481e+02  2.456601e+01 -1.245457e+02   \n",
              "25%    2.000000e+00  3.317705e+01 -1.176453e+02  3.317650e+01 -1.176435e+02   \n",
              "50%    2.000000e+00  3.589800e+01 -8.749843e+01  3.589863e+01 -8.749620e+01   \n",
              "75%    2.000000e+00  4.007191e+01 -8.021342e+01  4.007205e+01 -8.021121e+01   \n",
              "max    4.000000e+00  4.900058e+01 -6.748413e+01  4.907500e+01 -6.748413e+01   \n",
              "\n",
              "       Distance(mi)          City       Zipcode      Timezone  Temperature(F)  \\\n",
              "count  3.414595e+06  3.414595e+06  3.414595e+06  3.414595e+06    3.414595e+06   \n",
              "mean   8.291040e-01  5.178821e+03  5.541283e+04  1.494390e+00    6.144015e+01   \n",
              "std    1.750341e+00  2.836225e+03  3.130264e+04  1.091020e+00    1.910535e+01   \n",
              "min    0.000000e+00  0.000000e+00  1.001000e+03  0.000000e+00   -4.500000e+01   \n",
              "25%    6.600000e-02  2.826000e+03  2.920900e+04  1.000000e+00    4.900000e+01   \n",
              "50%    2.590000e-01  5.451000e+03  4.850700e+04  1.000000e+00    6.300000e+01   \n",
              "75%    9.110000e-01  7.544000e+03  9.130200e+04  3.000000e+00    7.600000e+01   \n",
              "max    1.551860e+02  1.025000e+04  9.940100e+04  3.000000e+00    1.960000e+02   \n",
              "\n",
              "       Wind_Chill(F)   Humidity(%)  Pressure(in)  Wind_Speed(mph)  \\\n",
              "count   3.414595e+06  3.414595e+06  3.414595e+06     3.414595e+06   \n",
              "mean    6.024397e+01  6.324460e+01  2.936660e+01     7.154872e+00   \n",
              "std     2.115653e+01  2.287674e+01  1.120635e+00     5.169845e+00   \n",
              "min    -6.300000e+01  1.000000e+00  0.000000e+00     0.000000e+00   \n",
              "25%     4.800000e+01  4.700000e+01  2.920000e+01     3.000000e+00   \n",
              "50%     6.300000e+01  6.500000e+01  2.973000e+01     7.000000e+00   \n",
              "75%     7.600000e+01  8.200000e+01  2.997000e+01     1.000000e+01   \n",
              "max     1.960000e+02  1.000000e+02  5.863000e+01     9.840000e+02   \n",
              "\n",
              "       Precipitation(in)  Weather_Condition  Sunrise_Sunset          Year  \\\n",
              "count       3.414595e+06       3.414595e+06    3.414595e+06  3.414595e+06   \n",
              "mean        4.078451e-03       3.117601e+00    3.526207e-01  2.021214e+03   \n",
              "std         3.486053e-02       3.407398e+00    4.777860e-01  1.040725e+00   \n",
              "min         0.000000e+00       0.000000e+00    0.000000e+00  2.016000e+03   \n",
              "25%         0.000000e+00       1.000000e+00    0.000000e+00  2.021000e+03   \n",
              "50%         0.000000e+00       1.000000e+00    0.000000e+00  2.021000e+03   \n",
              "75%         0.000000e+00       7.000000e+00    1.000000e+00  2.022000e+03   \n",
              "max         2.400000e+01       1.100000e+01    1.000000e+00  2.023000e+03   \n",
              "\n",
              "              Month           Day       Weekday          Hour  \\\n",
              "count  3.414595e+06  3.414595e+06  3.414595e+06  3.414595e+06   \n",
              "mean   6.746069e+00  1.580337e+01  3.138422e+00  1.285166e+01   \n",
              "std    3.789734e+00  8.660392e+00  1.868596e+00  5.784718e+00   \n",
              "min    1.000000e+00  1.000000e+00  0.000000e+00  0.000000e+00   \n",
              "25%    3.000000e+00  8.000000e+00  2.000000e+00  8.000000e+00   \n",
              "50%    7.000000e+00  1.600000e+01  3.000000e+00  1.400000e+01   \n",
              "75%    1.000000e+01  2.300000e+01  5.000000e+00  1.700000e+01   \n",
              "max    1.200000e+01  3.100000e+01  6.000000e+00  2.300000e+01   \n",
              "\n",
              "       Time Duration (min)  \n",
              "count         3.414595e+06  \n",
              "mean          7.804095e+02  \n",
              "std           1.840911e+04  \n",
              "min           2.000000e+00  \n",
              "25%           7.500000e+01  \n",
              "50%           9.940000e+01  \n",
              "75%           1.421670e+02  \n",
              "max           1.579259e+06  "
            ],
            "text/html": [
              "<div>\n",
              "<style scoped>\n",
              "    .dataframe tbody tr th:only-of-type {\n",
              "        vertical-align: middle;\n",
              "    }\n",
              "\n",
              "    .dataframe tbody tr th {\n",
              "        vertical-align: top;\n",
              "    }\n",
              "\n",
              "    .dataframe thead th {\n",
              "        text-align: right;\n",
              "    }\n",
              "</style>\n",
              "<table border=\"1\" class=\"dataframe\">\n",
              "  <thead>\n",
              "    <tr style=\"text-align: right;\">\n",
              "      <th></th>\n",
              "      <th>Severity</th>\n",
              "      <th>Start_Lat</th>\n",
              "      <th>Start_Lng</th>\n",
              "      <th>End_Lat</th>\n",
              "      <th>End_Lng</th>\n",
              "      <th>Distance(mi)</th>\n",
              "      <th>City</th>\n",
              "      <th>Zipcode</th>\n",
              "      <th>Timezone</th>\n",
              "      <th>Temperature(F)</th>\n",
              "      <th>Wind_Chill(F)</th>\n",
              "      <th>Humidity(%)</th>\n",
              "      <th>Pressure(in)</th>\n",
              "      <th>Wind_Speed(mph)</th>\n",
              "      <th>Precipitation(in)</th>\n",
              "      <th>Weather_Condition</th>\n",
              "      <th>Sunrise_Sunset</th>\n",
              "      <th>Year</th>\n",
              "      <th>Month</th>\n",
              "      <th>Day</th>\n",
              "      <th>Weekday</th>\n",
              "      <th>Hour</th>\n",
              "      <th>Time Duration (min)</th>\n",
              "    </tr>\n",
              "  </thead>\n",
              "  <tbody>\n",
              "    <tr>\n",
              "      <th>count</th>\n",
              "      <td>3.414595e+06</td>\n",
              "      <td>3.414595e+06</td>\n",
              "      <td>3.414595e+06</td>\n",
              "      <td>3.414595e+06</td>\n",
              "      <td>3.414595e+06</td>\n",
              "      <td>3.414595e+06</td>\n",
              "      <td>3.414595e+06</td>\n",
              "      <td>3.414595e+06</td>\n",
              "      <td>3.414595e+06</td>\n",
              "      <td>3.414595e+06</td>\n",
              "      <td>3.414595e+06</td>\n",
              "      <td>3.414595e+06</td>\n",
              "      <td>3.414595e+06</td>\n",
              "      <td>3.414595e+06</td>\n",
              "      <td>3.414595e+06</td>\n",
              "      <td>3.414595e+06</td>\n",
              "      <td>3.414595e+06</td>\n",
              "      <td>3.414595e+06</td>\n",
              "      <td>3.414595e+06</td>\n",
              "      <td>3.414595e+06</td>\n",
              "      <td>3.414595e+06</td>\n",
              "      <td>3.414595e+06</td>\n",
              "      <td>3.414595e+06</td>\n",
              "    </tr>\n",
              "    <tr>\n",
              "      <th>mean</th>\n",
              "      <td>2.073957e+00</td>\n",
              "      <td>3.606361e+01</td>\n",
              "      <td>-9.537304e+01</td>\n",
              "      <td>3.606380e+01</td>\n",
              "      <td>-9.537271e+01</td>\n",
              "      <td>8.291040e-01</td>\n",
              "      <td>5.178821e+03</td>\n",
              "      <td>5.541283e+04</td>\n",
              "      <td>1.494390e+00</td>\n",
              "      <td>6.144015e+01</td>\n",
              "      <td>6.024397e+01</td>\n",
              "      <td>6.324460e+01</td>\n",
              "      <td>2.936660e+01</td>\n",
              "      <td>7.154872e+00</td>\n",
              "      <td>4.078451e-03</td>\n",
              "      <td>3.117601e+00</td>\n",
              "      <td>3.526207e-01</td>\n",
              "      <td>2.021214e+03</td>\n",
              "      <td>6.746069e+00</td>\n",
              "      <td>1.580337e+01</td>\n",
              "      <td>3.138422e+00</td>\n",
              "      <td>1.285166e+01</td>\n",
              "      <td>7.804095e+02</td>\n",
              "    </tr>\n",
              "    <tr>\n",
              "      <th>std</th>\n",
              "      <td>3.816288e-01</td>\n",
              "      <td>5.315566e+00</td>\n",
              "      <td>1.807716e+01</td>\n",
              "      <td>5.315740e+00</td>\n",
              "      <td>1.807685e+01</td>\n",
              "      <td>1.750341e+00</td>\n",
              "      <td>2.836225e+03</td>\n",
              "      <td>3.130264e+04</td>\n",
              "      <td>1.091020e+00</td>\n",
              "      <td>1.910535e+01</td>\n",
              "      <td>2.115653e+01</td>\n",
              "      <td>2.287674e+01</td>\n",
              "      <td>1.120635e+00</td>\n",
              "      <td>5.169845e+00</td>\n",
              "      <td>3.486053e-02</td>\n",
              "      <td>3.407398e+00</td>\n",
              "      <td>4.777860e-01</td>\n",
              "      <td>1.040725e+00</td>\n",
              "      <td>3.789734e+00</td>\n",
              "      <td>8.660392e+00</td>\n",
              "      <td>1.868596e+00</td>\n",
              "      <td>5.784718e+00</td>\n",
              "      <td>1.840911e+04</td>\n",
              "    </tr>\n",
              "    <tr>\n",
              "      <th>min</th>\n",
              "      <td>1.000000e+00</td>\n",
              "      <td>2.456603e+01</td>\n",
              "      <td>-1.245481e+02</td>\n",
              "      <td>2.456601e+01</td>\n",
              "      <td>-1.245457e+02</td>\n",
              "      <td>0.000000e+00</td>\n",
              "      <td>0.000000e+00</td>\n",
              "      <td>1.001000e+03</td>\n",
              "      <td>0.000000e+00</td>\n",
              "      <td>-4.500000e+01</td>\n",
              "      <td>-6.300000e+01</td>\n",
              "      <td>1.000000e+00</td>\n",
              "      <td>0.000000e+00</td>\n",
              "      <td>0.000000e+00</td>\n",
              "      <td>0.000000e+00</td>\n",
              "      <td>0.000000e+00</td>\n",
              "      <td>0.000000e+00</td>\n",
              "      <td>2.016000e+03</td>\n",
              "      <td>1.000000e+00</td>\n",
              "      <td>1.000000e+00</td>\n",
              "      <td>0.000000e+00</td>\n",
              "      <td>0.000000e+00</td>\n",
              "      <td>2.000000e+00</td>\n",
              "    </tr>\n",
              "    <tr>\n",
              "      <th>25%</th>\n",
              "      <td>2.000000e+00</td>\n",
              "      <td>3.317705e+01</td>\n",
              "      <td>-1.176453e+02</td>\n",
              "      <td>3.317650e+01</td>\n",
              "      <td>-1.176435e+02</td>\n",
              "      <td>6.600000e-02</td>\n",
              "      <td>2.826000e+03</td>\n",
              "      <td>2.920900e+04</td>\n",
              "      <td>1.000000e+00</td>\n",
              "      <td>4.900000e+01</td>\n",
              "      <td>4.800000e+01</td>\n",
              "      <td>4.700000e+01</td>\n",
              "      <td>2.920000e+01</td>\n",
              "      <td>3.000000e+00</td>\n",
              "      <td>0.000000e+00</td>\n",
              "      <td>1.000000e+00</td>\n",
              "      <td>0.000000e+00</td>\n",
              "      <td>2.021000e+03</td>\n",
              "      <td>3.000000e+00</td>\n",
              "      <td>8.000000e+00</td>\n",
              "      <td>2.000000e+00</td>\n",
              "      <td>8.000000e+00</td>\n",
              "      <td>7.500000e+01</td>\n",
              "    </tr>\n",
              "    <tr>\n",
              "      <th>50%</th>\n",
              "      <td>2.000000e+00</td>\n",
              "      <td>3.589800e+01</td>\n",
              "      <td>-8.749843e+01</td>\n",
              "      <td>3.589863e+01</td>\n",
              "      <td>-8.749620e+01</td>\n",
              "      <td>2.590000e-01</td>\n",
              "      <td>5.451000e+03</td>\n",
              "      <td>4.850700e+04</td>\n",
              "      <td>1.000000e+00</td>\n",
              "      <td>6.300000e+01</td>\n",
              "      <td>6.300000e+01</td>\n",
              "      <td>6.500000e+01</td>\n",
              "      <td>2.973000e+01</td>\n",
              "      <td>7.000000e+00</td>\n",
              "      <td>0.000000e+00</td>\n",
              "      <td>1.000000e+00</td>\n",
              "      <td>0.000000e+00</td>\n",
              "      <td>2.021000e+03</td>\n",
              "      <td>7.000000e+00</td>\n",
              "      <td>1.600000e+01</td>\n",
              "      <td>3.000000e+00</td>\n",
              "      <td>1.400000e+01</td>\n",
              "      <td>9.940000e+01</td>\n",
              "    </tr>\n",
              "    <tr>\n",
              "      <th>75%</th>\n",
              "      <td>2.000000e+00</td>\n",
              "      <td>4.007191e+01</td>\n",
              "      <td>-8.021342e+01</td>\n",
              "      <td>4.007205e+01</td>\n",
              "      <td>-8.021121e+01</td>\n",
              "      <td>9.110000e-01</td>\n",
              "      <td>7.544000e+03</td>\n",
              "      <td>9.130200e+04</td>\n",
              "      <td>3.000000e+00</td>\n",
              "      <td>7.600000e+01</td>\n",
              "      <td>7.600000e+01</td>\n",
              "      <td>8.200000e+01</td>\n",
              "      <td>2.997000e+01</td>\n",
              "      <td>1.000000e+01</td>\n",
              "      <td>0.000000e+00</td>\n",
              "      <td>7.000000e+00</td>\n",
              "      <td>1.000000e+00</td>\n",
              "      <td>2.022000e+03</td>\n",
              "      <td>1.000000e+01</td>\n",
              "      <td>2.300000e+01</td>\n",
              "      <td>5.000000e+00</td>\n",
              "      <td>1.700000e+01</td>\n",
              "      <td>1.421670e+02</td>\n",
              "    </tr>\n",
              "    <tr>\n",
              "      <th>max</th>\n",
              "      <td>4.000000e+00</td>\n",
              "      <td>4.900058e+01</td>\n",
              "      <td>-6.748413e+01</td>\n",
              "      <td>4.907500e+01</td>\n",
              "      <td>-6.748413e+01</td>\n",
              "      <td>1.551860e+02</td>\n",
              "      <td>1.025000e+04</td>\n",
              "      <td>9.940100e+04</td>\n",
              "      <td>3.000000e+00</td>\n",
              "      <td>1.960000e+02</td>\n",
              "      <td>1.960000e+02</td>\n",
              "      <td>1.000000e+02</td>\n",
              "      <td>5.863000e+01</td>\n",
              "      <td>9.840000e+02</td>\n",
              "      <td>2.400000e+01</td>\n",
              "      <td>1.100000e+01</td>\n",
              "      <td>1.000000e+00</td>\n",
              "      <td>2.023000e+03</td>\n",
              "      <td>1.200000e+01</td>\n",
              "      <td>3.100000e+01</td>\n",
              "      <td>6.000000e+00</td>\n",
              "      <td>2.300000e+01</td>\n",
              "      <td>1.579259e+06</td>\n",
              "    </tr>\n",
              "  </tbody>\n",
              "</table>\n",
              "</div>"
            ]
          },
          "metadata": {},
          "execution_count": 19
        }
      ]
    },
    {
      "cell_type": "markdown",
      "source": [
        "### Correlation to reduce data set"
      ],
      "metadata": {
        "id": "-3ZsqfjKu72F"
      }
    },
    {
      "cell_type": "code",
      "source": [
        "Severity_corr = pd.DataFrame(df_mod.corr()['Severity'])\n",
        "Severity_corr.drop('Severity', inplace=True)"
      ],
      "metadata": {
        "id": "Vx9YXXpIu7hE"
      },
      "execution_count": null,
      "outputs": []
    },
    {
      "cell_type": "code",
      "source": [
        "# Severity_corr.shape"
      ],
      "metadata": {
        "colab": {
          "base_uri": "https://localhost:8080/"
        },
        "id": "SlSvtBlN2yiB",
        "outputId": "c5872f43-3deb-41a5-e7c8-3c38d3f56099"
      },
      "execution_count": null,
      "outputs": [
        {
          "output_type": "execute_result",
          "data": {
            "text/plain": [
              "(30, 1)"
            ]
          },
          "metadata": {},
          "execution_count": 32
        }
      ]
    },
    {
      "cell_type": "code",
      "source": [
        "Severity_corr.abs().sort_values(by='Severity', ascending=False)"
      ],
      "metadata": {
        "colab": {
          "base_uri": "https://localhost:8080/",
          "height": 990
        },
        "id": "DyIBMsMY1XSR",
        "outputId": "6c785f7a-cfed-431b-ff3a-269b8fb61529"
      },
      "execution_count": null,
      "outputs": [
        {
          "output_type": "execute_result",
          "data": {
            "text/plain": [
              "                     Severity\n",
              "Year                 0.115294\n",
              "End_Lng              0.082843\n",
              "Start_Lng            0.082842\n",
              "Start_Lat            0.079051\n",
              "End_Lat              0.079051\n",
              "Zipcode              0.076305\n",
              "Timezone             0.074721\n",
              "Pressure(in)         0.047817\n",
              "Wind_Chill(F)        0.033775\n",
              "Humidity(%)          0.032725\n",
              "Temperature(F)       0.032601\n",
              "Crossing             0.030181\n",
              "Junction             0.028060\n",
              "City                 0.023984\n",
              "Distance(mi)         0.020586\n",
              "Station              0.017503\n",
              "Sunrise_Sunset       0.017297\n",
              "Month                0.014281\n",
              "Time Duration (min)  0.011400\n",
              "Weekday              0.008072\n",
              "Hour                 0.007617\n",
              "Weather_Condition    0.004724\n",
              "Amenity              0.004356\n",
              "Precipitation(in)    0.003593\n",
              "Bump                 0.003068\n",
              "No_Exit              0.002916\n",
              "Day                  0.002093\n",
              "Stop                 0.001744\n",
              "Wind_Speed(mph)      0.000807\n",
              "Railway              0.000025"
            ],
            "text/html": [
              "<div>\n",
              "<style scoped>\n",
              "    .dataframe tbody tr th:only-of-type {\n",
              "        vertical-align: middle;\n",
              "    }\n",
              "\n",
              "    .dataframe tbody tr th {\n",
              "        vertical-align: top;\n",
              "    }\n",
              "\n",
              "    .dataframe thead th {\n",
              "        text-align: right;\n",
              "    }\n",
              "</style>\n",
              "<table border=\"1\" class=\"dataframe\">\n",
              "  <thead>\n",
              "    <tr style=\"text-align: right;\">\n",
              "      <th></th>\n",
              "      <th>Severity</th>\n",
              "    </tr>\n",
              "  </thead>\n",
              "  <tbody>\n",
              "    <tr>\n",
              "      <th>Year</th>\n",
              "      <td>0.115294</td>\n",
              "    </tr>\n",
              "    <tr>\n",
              "      <th>End_Lng</th>\n",
              "      <td>0.082843</td>\n",
              "    </tr>\n",
              "    <tr>\n",
              "      <th>Start_Lng</th>\n",
              "      <td>0.082842</td>\n",
              "    </tr>\n",
              "    <tr>\n",
              "      <th>Start_Lat</th>\n",
              "      <td>0.079051</td>\n",
              "    </tr>\n",
              "    <tr>\n",
              "      <th>End_Lat</th>\n",
              "      <td>0.079051</td>\n",
              "    </tr>\n",
              "    <tr>\n",
              "      <th>Zipcode</th>\n",
              "      <td>0.076305</td>\n",
              "    </tr>\n",
              "    <tr>\n",
              "      <th>Timezone</th>\n",
              "      <td>0.074721</td>\n",
              "    </tr>\n",
              "    <tr>\n",
              "      <th>Pressure(in)</th>\n",
              "      <td>0.047817</td>\n",
              "    </tr>\n",
              "    <tr>\n",
              "      <th>Wind_Chill(F)</th>\n",
              "      <td>0.033775</td>\n",
              "    </tr>\n",
              "    <tr>\n",
              "      <th>Humidity(%)</th>\n",
              "      <td>0.032725</td>\n",
              "    </tr>\n",
              "    <tr>\n",
              "      <th>Temperature(F)</th>\n",
              "      <td>0.032601</td>\n",
              "    </tr>\n",
              "    <tr>\n",
              "      <th>Crossing</th>\n",
              "      <td>0.030181</td>\n",
              "    </tr>\n",
              "    <tr>\n",
              "      <th>Junction</th>\n",
              "      <td>0.028060</td>\n",
              "    </tr>\n",
              "    <tr>\n",
              "      <th>City</th>\n",
              "      <td>0.023984</td>\n",
              "    </tr>\n",
              "    <tr>\n",
              "      <th>Distance(mi)</th>\n",
              "      <td>0.020586</td>\n",
              "    </tr>\n",
              "    <tr>\n",
              "      <th>Station</th>\n",
              "      <td>0.017503</td>\n",
              "    </tr>\n",
              "    <tr>\n",
              "      <th>Sunrise_Sunset</th>\n",
              "      <td>0.017297</td>\n",
              "    </tr>\n",
              "    <tr>\n",
              "      <th>Month</th>\n",
              "      <td>0.014281</td>\n",
              "    </tr>\n",
              "    <tr>\n",
              "      <th>Time Duration (min)</th>\n",
              "      <td>0.011400</td>\n",
              "    </tr>\n",
              "    <tr>\n",
              "      <th>Weekday</th>\n",
              "      <td>0.008072</td>\n",
              "    </tr>\n",
              "    <tr>\n",
              "      <th>Hour</th>\n",
              "      <td>0.007617</td>\n",
              "    </tr>\n",
              "    <tr>\n",
              "      <th>Weather_Condition</th>\n",
              "      <td>0.004724</td>\n",
              "    </tr>\n",
              "    <tr>\n",
              "      <th>Amenity</th>\n",
              "      <td>0.004356</td>\n",
              "    </tr>\n",
              "    <tr>\n",
              "      <th>Precipitation(in)</th>\n",
              "      <td>0.003593</td>\n",
              "    </tr>\n",
              "    <tr>\n",
              "      <th>Bump</th>\n",
              "      <td>0.003068</td>\n",
              "    </tr>\n",
              "    <tr>\n",
              "      <th>No_Exit</th>\n",
              "      <td>0.002916</td>\n",
              "    </tr>\n",
              "    <tr>\n",
              "      <th>Day</th>\n",
              "      <td>0.002093</td>\n",
              "    </tr>\n",
              "    <tr>\n",
              "      <th>Stop</th>\n",
              "      <td>0.001744</td>\n",
              "    </tr>\n",
              "    <tr>\n",
              "      <th>Wind_Speed(mph)</th>\n",
              "      <td>0.000807</td>\n",
              "    </tr>\n",
              "    <tr>\n",
              "      <th>Railway</th>\n",
              "      <td>0.000025</td>\n",
              "    </tr>\n",
              "  </tbody>\n",
              "</table>\n",
              "</div>"
            ]
          },
          "metadata": {},
          "execution_count": 21
        }
      ]
    },
    {
      "cell_type": "markdown",
      "source": [
        "#### Dropping unwanted columns based on correlation with Target Variable 'Severity'"
      ],
      "metadata": {
        "id": "kmn60olgDzuH"
      }
    },
    {
      "cell_type": "code",
      "source": [
        "location_cols_to_drop = ['End_Lng', 'End_Lat', 'Timezone', 'Junction', 'City', 'Distance(mi)', 'Station', 'Amenity', 'Bump', 'No_Exit', 'Stop', 'Railway']\n",
        "weather_cols_to_drop = ['Pressure(in)', 'Wind_Chill(F)', 'Sunrise_Sunset', 'Precipitation(in)', 'Wind_Speed(mph)']\n",
        "time_cols_to_drop = ['Year', 'Time Duration (min)', 'Day']"
      ],
      "metadata": {
        "id": "pKTf_eZy3Stb"
      },
      "execution_count": null,
      "outputs": []
    },
    {
      "cell_type": "code",
      "source": [
        "df_mod.drop(location_cols_to_drop, axis=1, inplace=True)"
      ],
      "metadata": {
        "id": "r7U-KZBrBqhH"
      },
      "execution_count": null,
      "outputs": []
    },
    {
      "cell_type": "code",
      "source": [
        "df_mod.drop(weather_cols_to_drop, axis=1, inplace=True)"
      ],
      "metadata": {
        "id": "0BtvgwI7CyD4"
      },
      "execution_count": null,
      "outputs": []
    },
    {
      "cell_type": "code",
      "source": [
        "df_mod.drop(time_cols_to_drop, axis=1, inplace=True)"
      ],
      "metadata": {
        "id": "lIIa5priCzPH"
      },
      "execution_count": null,
      "outputs": []
    },
    {
      "cell_type": "code",
      "source": [
        "df_mod.columns"
      ],
      "metadata": {
        "colab": {
          "base_uri": "https://localhost:8080/"
        },
        "id": "1mBVRUlyCL5K",
        "outputId": "de7db3b9-d99e-452b-f418-55bb1af51ea5"
      },
      "execution_count": null,
      "outputs": [
        {
          "output_type": "execute_result",
          "data": {
            "text/plain": [
              "Index(['Severity', 'Start_Lat', 'Start_Lng', 'Zipcode', 'Temperature(F)',\n",
              "       'Humidity(%)', 'Weather_Condition', 'Crossing', 'Month', 'Weekday',\n",
              "       'Hour'],\n",
              "      dtype='object')"
            ]
          },
          "metadata": {},
          "execution_count": 27
        }
      ]
    },
    {
      "cell_type": "code",
      "source": [
        "df_mod.shape"
      ],
      "metadata": {
        "colab": {
          "base_uri": "https://localhost:8080/"
        },
        "id": "QHIkdXCHCJ8a",
        "outputId": "f7144f59-ec42-4b58-9a85-71c8b924e7c8"
      },
      "execution_count": null,
      "outputs": [
        {
          "output_type": "execute_result",
          "data": {
            "text/plain": [
              "(3414595, 11)"
            ]
          },
          "metadata": {},
          "execution_count": 28
        }
      ]
    },
    {
      "cell_type": "code",
      "source": [
        "df_mod.head()"
      ],
      "metadata": {
        "colab": {
          "base_uri": "https://localhost:8080/",
          "height": 206
        },
        "id": "HAUujQSJE04a",
        "outputId": "f9eada36-95d0-4ab5-dcbf-9a9fa9037383"
      },
      "execution_count": null,
      "outputs": [
        {
          "output_type": "execute_result",
          "data": {
            "text/plain": [
              "   Severity  Start_Lat  Start_Lng  Zipcode  Temperature(F)  Humidity(%)  \\\n",
              "0         3  40.108910 -83.092860    43017            42.1         58.0   \n",
              "1         3  39.172393 -84.492792    45217            37.0         93.0   \n",
              "2         2  39.192880 -84.477230    45216            33.8        100.0   \n",
              "3         2  41.473900 -81.704233    44113            33.1         96.0   \n",
              "4         2  39.582242 -83.677814    45335            33.8         93.0   \n",
              "\n",
              "   Weather_Condition  Crossing  Month  Weekday  Hour  \n",
              "0                  6     False      2        1     0  \n",
              "1                  6     False      2        1     7  \n",
              "2                  7     False      2        1    15  \n",
              "3                  7     False      2        1    17  \n",
              "4                  7     False      2        1    17  "
            ],
            "text/html": [
              "<div>\n",
              "<style scoped>\n",
              "    .dataframe tbody tr th:only-of-type {\n",
              "        vertical-align: middle;\n",
              "    }\n",
              "\n",
              "    .dataframe tbody tr th {\n",
              "        vertical-align: top;\n",
              "    }\n",
              "\n",
              "    .dataframe thead th {\n",
              "        text-align: right;\n",
              "    }\n",
              "</style>\n",
              "<table border=\"1\" class=\"dataframe\">\n",
              "  <thead>\n",
              "    <tr style=\"text-align: right;\">\n",
              "      <th></th>\n",
              "      <th>Severity</th>\n",
              "      <th>Start_Lat</th>\n",
              "      <th>Start_Lng</th>\n",
              "      <th>Zipcode</th>\n",
              "      <th>Temperature(F)</th>\n",
              "      <th>Humidity(%)</th>\n",
              "      <th>Weather_Condition</th>\n",
              "      <th>Crossing</th>\n",
              "      <th>Month</th>\n",
              "      <th>Weekday</th>\n",
              "      <th>Hour</th>\n",
              "    </tr>\n",
              "  </thead>\n",
              "  <tbody>\n",
              "    <tr>\n",
              "      <th>0</th>\n",
              "      <td>3</td>\n",
              "      <td>40.108910</td>\n",
              "      <td>-83.092860</td>\n",
              "      <td>43017</td>\n",
              "      <td>42.1</td>\n",
              "      <td>58.0</td>\n",
              "      <td>6</td>\n",
              "      <td>False</td>\n",
              "      <td>2</td>\n",
              "      <td>1</td>\n",
              "      <td>0</td>\n",
              "    </tr>\n",
              "    <tr>\n",
              "      <th>1</th>\n",
              "      <td>3</td>\n",
              "      <td>39.172393</td>\n",
              "      <td>-84.492792</td>\n",
              "      <td>45217</td>\n",
              "      <td>37.0</td>\n",
              "      <td>93.0</td>\n",
              "      <td>6</td>\n",
              "      <td>False</td>\n",
              "      <td>2</td>\n",
              "      <td>1</td>\n",
              "      <td>7</td>\n",
              "    </tr>\n",
              "    <tr>\n",
              "      <th>2</th>\n",
              "      <td>2</td>\n",
              "      <td>39.192880</td>\n",
              "      <td>-84.477230</td>\n",
              "      <td>45216</td>\n",
              "      <td>33.8</td>\n",
              "      <td>100.0</td>\n",
              "      <td>7</td>\n",
              "      <td>False</td>\n",
              "      <td>2</td>\n",
              "      <td>1</td>\n",
              "      <td>15</td>\n",
              "    </tr>\n",
              "    <tr>\n",
              "      <th>3</th>\n",
              "      <td>2</td>\n",
              "      <td>41.473900</td>\n",
              "      <td>-81.704233</td>\n",
              "      <td>44113</td>\n",
              "      <td>33.1</td>\n",
              "      <td>96.0</td>\n",
              "      <td>7</td>\n",
              "      <td>False</td>\n",
              "      <td>2</td>\n",
              "      <td>1</td>\n",
              "      <td>17</td>\n",
              "    </tr>\n",
              "    <tr>\n",
              "      <th>4</th>\n",
              "      <td>2</td>\n",
              "      <td>39.582242</td>\n",
              "      <td>-83.677814</td>\n",
              "      <td>45335</td>\n",
              "      <td>33.8</td>\n",
              "      <td>93.0</td>\n",
              "      <td>7</td>\n",
              "      <td>False</td>\n",
              "      <td>2</td>\n",
              "      <td>1</td>\n",
              "      <td>17</td>\n",
              "    </tr>\n",
              "  </tbody>\n",
              "</table>\n",
              "</div>"
            ]
          },
          "metadata": {},
          "execution_count": 30
        }
      ]
    },
    {
      "cell_type": "code",
      "source": [
        "# plt.figure(figsize=(10, 10))\n",
        "# sns.heatmap(df_mod.corr(), annot=True)"
      ],
      "metadata": {
        "id": "-vgEalhEFfOJ"
      },
      "execution_count": null,
      "outputs": []
    },
    {
      "cell_type": "markdown",
      "source": [
        "### Modifying Column names & their order"
      ],
      "metadata": {
        "id": "znzMUhgXG9Nt"
      }
    },
    {
      "cell_type": "markdown",
      "source": [
        "#### Updating Column Names"
      ],
      "metadata": {
        "id": "DkxFZh7uHLPU"
      }
    },
    {
      "cell_type": "code",
      "source": [
        "df_mod.columns = ['Severity', 'Latitude', 'Longitude', 'Zipcode', 'Temperature',\n",
        "       'Humidity', 'Weather_condition', 'Crossings', 'Month', 'Weekday',\n",
        "       'Hour']"
      ],
      "metadata": {
        "id": "I2WHH0CbFNSW"
      },
      "execution_count": null,
      "outputs": []
    },
    {
      "cell_type": "code",
      "source": [
        "df_mod.head()"
      ],
      "metadata": {
        "colab": {
          "base_uri": "https://localhost:8080/",
          "height": 206
        },
        "id": "mZgMuoJBGzJm",
        "outputId": "cb17a466-a689-4e39-f618-da1eb74823f8"
      },
      "execution_count": null,
      "outputs": [
        {
          "output_type": "execute_result",
          "data": {
            "text/plain": [
              "   Severity   Latitude  Longitude  Zipcode  Temperature  Humidity  \\\n",
              "0         3  40.108910 -83.092860    43017         42.1      58.0   \n",
              "1         3  39.172393 -84.492792    45217         37.0      93.0   \n",
              "2         2  39.192880 -84.477230    45216         33.8     100.0   \n",
              "3         2  41.473900 -81.704233    44113         33.1      96.0   \n",
              "4         2  39.582242 -83.677814    45335         33.8      93.0   \n",
              "\n",
              "   Weather_condition  Crossings  Month  Weekday  Hour  \n",
              "0                  6      False      2        1     0  \n",
              "1                  6      False      2        1     7  \n",
              "2                  7      False      2        1    15  \n",
              "3                  7      False      2        1    17  \n",
              "4                  7      False      2        1    17  "
            ],
            "text/html": [
              "<div>\n",
              "<style scoped>\n",
              "    .dataframe tbody tr th:only-of-type {\n",
              "        vertical-align: middle;\n",
              "    }\n",
              "\n",
              "    .dataframe tbody tr th {\n",
              "        vertical-align: top;\n",
              "    }\n",
              "\n",
              "    .dataframe thead th {\n",
              "        text-align: right;\n",
              "    }\n",
              "</style>\n",
              "<table border=\"1\" class=\"dataframe\">\n",
              "  <thead>\n",
              "    <tr style=\"text-align: right;\">\n",
              "      <th></th>\n",
              "      <th>Severity</th>\n",
              "      <th>Latitude</th>\n",
              "      <th>Longitude</th>\n",
              "      <th>Zipcode</th>\n",
              "      <th>Temperature</th>\n",
              "      <th>Humidity</th>\n",
              "      <th>Weather_condition</th>\n",
              "      <th>Crossings</th>\n",
              "      <th>Month</th>\n",
              "      <th>Weekday</th>\n",
              "      <th>Hour</th>\n",
              "    </tr>\n",
              "  </thead>\n",
              "  <tbody>\n",
              "    <tr>\n",
              "      <th>0</th>\n",
              "      <td>3</td>\n",
              "      <td>40.108910</td>\n",
              "      <td>-83.092860</td>\n",
              "      <td>43017</td>\n",
              "      <td>42.1</td>\n",
              "      <td>58.0</td>\n",
              "      <td>6</td>\n",
              "      <td>False</td>\n",
              "      <td>2</td>\n",
              "      <td>1</td>\n",
              "      <td>0</td>\n",
              "    </tr>\n",
              "    <tr>\n",
              "      <th>1</th>\n",
              "      <td>3</td>\n",
              "      <td>39.172393</td>\n",
              "      <td>-84.492792</td>\n",
              "      <td>45217</td>\n",
              "      <td>37.0</td>\n",
              "      <td>93.0</td>\n",
              "      <td>6</td>\n",
              "      <td>False</td>\n",
              "      <td>2</td>\n",
              "      <td>1</td>\n",
              "      <td>7</td>\n",
              "    </tr>\n",
              "    <tr>\n",
              "      <th>2</th>\n",
              "      <td>2</td>\n",
              "      <td>39.192880</td>\n",
              "      <td>-84.477230</td>\n",
              "      <td>45216</td>\n",
              "      <td>33.8</td>\n",
              "      <td>100.0</td>\n",
              "      <td>7</td>\n",
              "      <td>False</td>\n",
              "      <td>2</td>\n",
              "      <td>1</td>\n",
              "      <td>15</td>\n",
              "    </tr>\n",
              "    <tr>\n",
              "      <th>3</th>\n",
              "      <td>2</td>\n",
              "      <td>41.473900</td>\n",
              "      <td>-81.704233</td>\n",
              "      <td>44113</td>\n",
              "      <td>33.1</td>\n",
              "      <td>96.0</td>\n",
              "      <td>7</td>\n",
              "      <td>False</td>\n",
              "      <td>2</td>\n",
              "      <td>1</td>\n",
              "      <td>17</td>\n",
              "    </tr>\n",
              "    <tr>\n",
              "      <th>4</th>\n",
              "      <td>2</td>\n",
              "      <td>39.582242</td>\n",
              "      <td>-83.677814</td>\n",
              "      <td>45335</td>\n",
              "      <td>33.8</td>\n",
              "      <td>93.0</td>\n",
              "      <td>7</td>\n",
              "      <td>False</td>\n",
              "      <td>2</td>\n",
              "      <td>1</td>\n",
              "      <td>17</td>\n",
              "    </tr>\n",
              "  </tbody>\n",
              "</table>\n",
              "</div>"
            ]
          },
          "metadata": {},
          "execution_count": 38
        }
      ]
    },
    {
      "cell_type": "code",
      "source": [
        "df_mod.shape"
      ],
      "metadata": {
        "colab": {
          "base_uri": "https://localhost:8080/"
        },
        "id": "5A0QslnMHte9",
        "outputId": "329ade68-b7e6-47dd-c70f-fc15368e410f"
      },
      "execution_count": null,
      "outputs": [
        {
          "output_type": "execute_result",
          "data": {
            "text/plain": [
              "(3414595, 11)"
            ]
          },
          "metadata": {},
          "execution_count": 39
        }
      ]
    },
    {
      "cell_type": "markdown",
      "source": [
        "#### Updating Order of columns"
      ],
      "metadata": {
        "id": "TPOnWL2bHNt-"
      }
    },
    {
      "cell_type": "code",
      "source": [
        "df_mod = df_mod[['Zipcode', 'Temperature', 'Weekday', 'Month', 'Hour', 'Latitude', 'Longitude', 'Humidity', 'Crossings', 'Weather_condition', 'Severity']]"
      ],
      "metadata": {
        "id": "q1mjDQ8JHQib"
      },
      "execution_count": null,
      "outputs": []
    },
    {
      "cell_type": "code",
      "source": [
        "df_mod.head()"
      ],
      "metadata": {
        "colab": {
          "base_uri": "https://localhost:8080/",
          "height": 206
        },
        "id": "V_U1FfLRHvjX",
        "outputId": "93bc4377-09f0-4f47-f80f-7ba6798a9996"
      },
      "execution_count": null,
      "outputs": [
        {
          "output_type": "execute_result",
          "data": {
            "text/plain": [
              "   Zipcode  Temperature  Weekday  Month  Hour   Latitude  Longitude  Humidity  \\\n",
              "0    43017         42.1        1      2     0  40.108910 -83.092860      58.0   \n",
              "1    45217         37.0        1      2     7  39.172393 -84.492792      93.0   \n",
              "2    45216         33.8        1      2    15  39.192880 -84.477230     100.0   \n",
              "3    44113         33.1        1      2    17  41.473900 -81.704233      96.0   \n",
              "4    45335         33.8        1      2    17  39.582242 -83.677814      93.0   \n",
              "\n",
              "   Crossings  Weather_condition  Severity  \n",
              "0      False                  6         3  \n",
              "1      False                  6         3  \n",
              "2      False                  7         2  \n",
              "3      False                  7         2  \n",
              "4      False                  7         2  "
            ],
            "text/html": [
              "<div>\n",
              "<style scoped>\n",
              "    .dataframe tbody tr th:only-of-type {\n",
              "        vertical-align: middle;\n",
              "    }\n",
              "\n",
              "    .dataframe tbody tr th {\n",
              "        vertical-align: top;\n",
              "    }\n",
              "\n",
              "    .dataframe thead th {\n",
              "        text-align: right;\n",
              "    }\n",
              "</style>\n",
              "<table border=\"1\" class=\"dataframe\">\n",
              "  <thead>\n",
              "    <tr style=\"text-align: right;\">\n",
              "      <th></th>\n",
              "      <th>Zipcode</th>\n",
              "      <th>Temperature</th>\n",
              "      <th>Weekday</th>\n",
              "      <th>Month</th>\n",
              "      <th>Hour</th>\n",
              "      <th>Latitude</th>\n",
              "      <th>Longitude</th>\n",
              "      <th>Humidity</th>\n",
              "      <th>Crossings</th>\n",
              "      <th>Weather_condition</th>\n",
              "      <th>Severity</th>\n",
              "    </tr>\n",
              "  </thead>\n",
              "  <tbody>\n",
              "    <tr>\n",
              "      <th>0</th>\n",
              "      <td>43017</td>\n",
              "      <td>42.1</td>\n",
              "      <td>1</td>\n",
              "      <td>2</td>\n",
              "      <td>0</td>\n",
              "      <td>40.108910</td>\n",
              "      <td>-83.092860</td>\n",
              "      <td>58.0</td>\n",
              "      <td>False</td>\n",
              "      <td>6</td>\n",
              "      <td>3</td>\n",
              "    </tr>\n",
              "    <tr>\n",
              "      <th>1</th>\n",
              "      <td>45217</td>\n",
              "      <td>37.0</td>\n",
              "      <td>1</td>\n",
              "      <td>2</td>\n",
              "      <td>7</td>\n",
              "      <td>39.172393</td>\n",
              "      <td>-84.492792</td>\n",
              "      <td>93.0</td>\n",
              "      <td>False</td>\n",
              "      <td>6</td>\n",
              "      <td>3</td>\n",
              "    </tr>\n",
              "    <tr>\n",
              "      <th>2</th>\n",
              "      <td>45216</td>\n",
              "      <td>33.8</td>\n",
              "      <td>1</td>\n",
              "      <td>2</td>\n",
              "      <td>15</td>\n",
              "      <td>39.192880</td>\n",
              "      <td>-84.477230</td>\n",
              "      <td>100.0</td>\n",
              "      <td>False</td>\n",
              "      <td>7</td>\n",
              "      <td>2</td>\n",
              "    </tr>\n",
              "    <tr>\n",
              "      <th>3</th>\n",
              "      <td>44113</td>\n",
              "      <td>33.1</td>\n",
              "      <td>1</td>\n",
              "      <td>2</td>\n",
              "      <td>17</td>\n",
              "      <td>41.473900</td>\n",
              "      <td>-81.704233</td>\n",
              "      <td>96.0</td>\n",
              "      <td>False</td>\n",
              "      <td>7</td>\n",
              "      <td>2</td>\n",
              "    </tr>\n",
              "    <tr>\n",
              "      <th>4</th>\n",
              "      <td>45335</td>\n",
              "      <td>33.8</td>\n",
              "      <td>1</td>\n",
              "      <td>2</td>\n",
              "      <td>17</td>\n",
              "      <td>39.582242</td>\n",
              "      <td>-83.677814</td>\n",
              "      <td>93.0</td>\n",
              "      <td>False</td>\n",
              "      <td>7</td>\n",
              "      <td>2</td>\n",
              "    </tr>\n",
              "  </tbody>\n",
              "</table>\n",
              "</div>"
            ]
          },
          "metadata": {},
          "execution_count": 42
        }
      ]
    },
    {
      "cell_type": "code",
      "source": [
        "df_mod.shape"
      ],
      "metadata": {
        "colab": {
          "base_uri": "https://localhost:8080/"
        },
        "id": "LWDGgR-DHxKO",
        "outputId": "ae129918-7cdf-473d-f535-55142b58b3f9"
      },
      "execution_count": null,
      "outputs": [
        {
          "output_type": "execute_result",
          "data": {
            "text/plain": [
              "(3414595, 11)"
            ]
          },
          "metadata": {},
          "execution_count": 43
        }
      ]
    },
    {
      "cell_type": "markdown",
      "source": [
        "## exporting CSV"
      ],
      "metadata": {
        "id": "4DQFoEaaERzS"
      }
    },
    {
      "cell_type": "code",
      "source": [
        "df_mod.to_csv('Presentation_output.csv', index=False)"
      ],
      "metadata": {
        "id": "pC7TrYmxESae"
      },
      "execution_count": null,
      "outputs": []
    },
    {
      "cell_type": "code",
      "source": [
        "# del df_mod"
      ],
      "metadata": {
        "id": "10PoiW2iEYmt"
      },
      "execution_count": null,
      "outputs": []
    },
    {
      "cell_type": "code",
      "source": [],
      "metadata": {
        "id": "CiAaByefSrzj"
      },
      "execution_count": null,
      "outputs": []
    }
  ]
}