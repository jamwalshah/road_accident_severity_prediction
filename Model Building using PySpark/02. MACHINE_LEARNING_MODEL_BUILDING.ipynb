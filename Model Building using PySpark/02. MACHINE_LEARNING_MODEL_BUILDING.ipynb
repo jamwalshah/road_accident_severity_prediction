{
 "cells": [
  {
   "cell_type": "code",
   "execution_count": 0,
   "metadata": {
    "application/vnd.databricks.v1+cell": {
     "cellMetadata": {
      "byteLimit": 2048000,
      "rowLimit": 10000
     },
     "inputWidgets": {},
     "nuid": "632cea76-975f-4b37-bf9a-85ccc0a31169",
     "showTitle": false,
     "title": ""
    }
   },
   "outputs": [
    {
     "output_type": "display_data",
     "data": {
      "text/html": [
       "<style scoped>\n",
       "  .table-result-container {\n",
       "    max-height: 300px;\n",
       "    overflow: auto;\n",
       "  }\n",
       "  table, th, td {\n",
       "    border: 1px solid black;\n",
       "    border-collapse: collapse;\n",
       "  }\n",
       "  th, td {\n",
       "    padding: 5px;\n",
       "  }\n",
       "  th {\n",
       "    text-align: left;\n",
       "  }\n",
       "</style><div class='table-result-container'><table class='table-result'><thead style='background-color: white'><tr><th>path</th><th>name</th><th>size</th><th>modificationTime</th></tr></thead><tbody><tr><td>dbfs:/mnt/usaccidentdl/processed/</td><td>processed/</td><td>0</td><td>0</td></tr><tr><td>dbfs:/mnt/usaccidentdl/raw/</td><td>raw/</td><td>0</td><td>0</td></tr></tbody></table></div>"
      ]
     },
     "metadata": {
      "application/vnd.databricks.v1+output": {
       "addedWidgets": {},
       "aggData": [],
       "aggError": "",
       "aggOverflow": false,
       "aggSchema": [],
       "aggSeriesLimitReached": false,
       "aggType": "",
       "arguments": {},
       "columnCustomDisplayInfos": {},
       "data": [
        [
         "dbfs:/mnt/usaccidentdl/processed/",
         "processed/",
         0,
         0
        ],
        [
         "dbfs:/mnt/usaccidentdl/raw/",
         "raw/",
         0,
         0
        ]
       ],
       "datasetInfos": [],
       "dbfsResultPath": null,
       "isJsonSchema": true,
       "metadata": {
        "isDbfsCommandResult": false
       },
       "overflow": false,
       "plotOptions": {
        "customPlotOptions": {},
        "displayType": "table",
        "pivotAggregation": null,
        "pivotColumns": null,
        "xColumns": null,
        "yColumns": null
       },
       "removedWidgets": [],
       "schema": [
        {
         "metadata": "{}",
         "name": "path",
         "type": "\"string\""
        },
        {
         "metadata": "{}",
         "name": "name",
         "type": "\"string\""
        },
        {
         "metadata": "{}",
         "name": "size",
         "type": "\"long\""
        },
        {
         "metadata": "{}",
         "name": "modificationTime",
         "type": "\"long\""
        }
       ],
       "type": "table"
      }
     },
     "output_type": "display_data"
    }
   ],
   "source": [
    "%fs\n",
    "ls mnt/usaccidentdl/"
   ]
  },
  {
   "cell_type": "code",
   "execution_count": 0,
   "metadata": {
    "application/vnd.databricks.v1+cell": {
     "cellMetadata": {
      "byteLimit": 2048000,
      "rowLimit": 10000
     },
     "inputWidgets": {},
     "nuid": "0b0dcf01-19b5-47bf-95fb-4acac6b0a311",
     "showTitle": false,
     "title": ""
    }
   },
   "outputs": [],
   "source": [
    "us_df = spark.read.format(\"csv\").option(\"header\",\"true\").option(\"inferSchema\",'True').load('/mnt/usaccidentdl/processed/final_df.csv')"
   ]
  },
  {
   "cell_type": "code",
   "execution_count": 0,
   "metadata": {
    "application/vnd.databricks.v1+cell": {
     "cellMetadata": {
      "byteLimit": 2048000,
      "rowLimit": 10000
     },
     "inputWidgets": {},
     "nuid": "0ea4aee9-3b26-4bb9-9d22-6a922d5df72d",
     "showTitle": false,
     "title": ""
    }
   },
   "outputs": [],
   "source": [
    "# SINCE DATA IS TOO LARGE WE HAVE EXTRACTED ONLY FIRST 2 LAKH RECORDS FOR MODEL BUILDING\n",
    "limit = 200000\n",
    "us_df = us_df.limit(limit)"
   ]
  },
  {
   "cell_type": "code",
   "execution_count": 0,
   "metadata": {
    "application/vnd.databricks.v1+cell": {
     "cellMetadata": {
      "byteLimit": 2048000,
      "rowLimit": 10000
     },
     "inputWidgets": {},
     "nuid": "9dd66624-4945-465a-a901-6dcb8e886ce3",
     "showTitle": false,
     "title": ""
    }
   },
   "outputs": [
    {
     "output_type": "stream",
     "name": "stdout",
     "output_type": "stream",
     "text": [
      "+-------+-------+--------+---------+------------------+---------+------------------+------------+-----------+-------+----------+--------------+-------------+-----------+------------+--------------+---------------+-----------------+-----------------+-------+-----+--------+--------+-------+-------+-------+-----+------------+--------------+----+-------------------+-------------------+-------+-------------------+-------------------+\n|    _c0| Source|Severity|Start_Lat|         Start_Lng|  End_Lat|           End_Lng|Distance(mi)|       City|Zipcode|  Timezone|Temperature(F)|Wind_Chill(F)|Humidity(%)|Pressure(in)|Wind_Direction|Wind_Speed(mph)|Precipitation(in)|Weather_Condition|Amenity| Bump|Crossing|Junction|No_Exit|Railway|Station| Stop|Turning_Loop|Sunrise_Sunset|Year|              Month|                Day|Weekday|               Hour|Time Duration (min)|\n+-------+-------+--------+---------+------------------+---------+------------------+------------+-----------+-------+----------+--------------+-------------+-----------+------------+--------------+---------------+-----------------+-----------------+-------+-----+--------+--------+-------+-------+-------+-----+------------+--------------+----+-------------------+-------------------+-------+-------------------+-------------------+\n|3402762|Source1|       3| 40.10891|         -83.09286| 40.11206|         -83.03187|        3.23|     Dublin|  43017|US/Eastern|          42.1|         36.1|       58.0|       29.76|            SW|           10.4|              0.0|       Light Rain|  false|false|   false|   false|  false|  false|  false|false|       false|         Night|2016|2016-02-08 00:37:08|2016-02-08 00:37:08|      1|2016-02-08 00:37:08|              360.0|\n|3402767|Source1|       3|39.172393|-84.49279200000002|39.170476|        -84.501798|         0.5| Cincinnati|  45217|US/Eastern|          37.0|         29.8|       93.0|       29.69|           WSW|           10.4|             0.01|       Light Rain|  false|false|   false|   false|  false|  false|  false|false|       false|           Day|2016|2016-02-08 07:53:43|2016-02-08 07:53:43|      1|2016-02-08 07:53:43|              360.0|\n|3402771|Source1|       2| 41.37531|-81.82016999999998| 41.36786|         -81.82174|       0.521|  Cleveland|  44130|US/Eastern|          33.1|         30.0|       92.0|       29.63|            SW|            3.5|             0.08|             Snow|  false|false|   false|    true|  false|  false|  false|false|       false|           Day|2016|2016-02-08 11:51:46|2016-02-08 11:51:46|      1|2016-02-08 11:51:46|              360.0|\n|3402773|Source1|       2| 40.10931|         -82.96849| 40.11078|           -82.984|       0.826|Westerville|  43081|US/Eastern|          32.0|         28.7|      100.0|       29.59|          West|            3.5|             0.05|             Snow|  false|false|   false|   false|  false|  false|  false|false|       false|           Day|2016|2016-02-08 15:16:43|2016-02-08 15:16:43|      1|2016-02-08 15:16:43|              360.0|\n|3402774|Source1|       2| 39.19288|         -84.47723| 39.19615|         -84.47335|       0.307| Cincinnati|  45216|US/Eastern|          33.8|         29.6|      100.0|       29.66|           NNW|            4.6|             0.03|       Light Snow|  false|false|   false|   false|  false|  false|  false|false|       false|           Day|2016|2016-02-08 15:43:50|2016-02-08 15:43:50|      1|2016-02-08 15:43:50|              360.0|\n|3402776|Source1|       2|  41.4739|        -81.704233| 41.47388|         -81.70559|        0.07|  Cleveland|  44113|US/Eastern|          33.1|         24.4|       96.0|       29.59|          West|           11.5|              0.0|       Light Snow|  false|false|   false|   false|  false|  false|  false|false|       false|           Day|2016|2016-02-08 17:27:39|2016-02-08 17:27:39|      1|2016-02-08 17:27:39|              360.0|\n|3402777|Source1|       2|39.582242|        -83.677814|39.603013|-83.63731899999998|        2.59|  Jamestown|  45335|US/Eastern|          33.8|         28.6|       93.0|       29.64|          West|            5.8|             0.01|       Light Snow|  false|false|   false|   false|  false|  false|  false|false|       false|           Day|2016|2016-02-08 17:30:18|2016-02-08 17:30:18|      1|2016-02-08 17:30:18|              360.0|\n|3402782|Source1|       3| 40.02664|          -82.9944| 40.01228|         -82.99218|       0.999|   Columbus|  43224|US/Eastern|          33.8|         27.0|      100.0|       29.63|          West|            8.1|              0.0|       Light Snow|  false|false|   false|   false|  false|  false|  false|false|       false|         Night|2016|2016-02-08 20:13:22|2016-02-08 20:13:22|      1|2016-02-08 20:13:22|              360.0|\n|3402784|Source1|       2| 40.99613|         -85.26613| 40.98982|         -85.26986|       0.477|    Roanoke|  46783|US/Eastern|          28.0|         16.1|       88.0|       29.71|          West|           16.1|              0.0|       Light Snow|  false|false|   false|   false|  false|  false|  false|false|       false|         Night|2016|2016-02-08 21:10:10|2016-02-08 21:10:10|      1|2016-02-08 21:10:10|              360.0|\n|3402785|Source1|       3|  39.0381|-84.59243000000002| 39.03475|         -84.60007|       0.471|Ft Mitchell|  41017|US/Eastern|          26.6|         15.2|       80.0|       29.73|          West|           13.8|              0.0|       Light Snow|  false|false|   false|   false|  false|  false|  false|false|       false|         Night|2016|2016-02-08 21:30:31|2016-02-08 21:30:31|      1|2016-02-08 21:30:31|              360.0|\n+-------+-------+--------+---------+------------------+---------+------------------+------------+-----------+-------+----------+--------------+-------------+-----------+------------+--------------+---------------+-----------------+-----------------+-------+-----+--------+--------+-------+-------+-------+-----+------------+--------------+----+-------------------+-------------------+-------+-------------------+-------------------+\nonly showing top 10 rows\n\n"
     ]
    }
   ],
   "source": [
    "us_df.show(10)"
   ]
  },
  {
   "cell_type": "code",
   "execution_count": 0,
   "metadata": {
    "application/vnd.databricks.v1+cell": {
     "cellMetadata": {
      "byteLimit": 2048000,
      "rowLimit": 10000
     },
     "inputWidgets": {},
     "nuid": "590720d8-a96f-4b36-aa0c-9c82ca5810b7",
     "showTitle": false,
     "title": ""
    }
   },
   "outputs": [
    {
     "output_type": "stream",
     "name": "stdout",
     "output_type": "stream",
     "text": [
      "root\n |-- _c0: integer (nullable = true)\n |-- Source: string (nullable = true)\n |-- Severity: integer (nullable = true)\n |-- Start_Lat: double (nullable = true)\n |-- Start_Lng: double (nullable = true)\n |-- End_Lat: double (nullable = true)\n |-- End_Lng: double (nullable = true)\n |-- Distance(mi): double (nullable = true)\n |-- City: string (nullable = true)\n |-- Zipcode: string (nullable = true)\n |-- Timezone: string (nullable = true)\n |-- Temperature(F): double (nullable = true)\n |-- Wind_Chill(F): double (nullable = true)\n |-- Humidity(%): double (nullable = true)\n |-- Pressure(in): double (nullable = true)\n |-- Wind_Direction: string (nullable = true)\n |-- Wind_Speed(mph): double (nullable = true)\n |-- Precipitation(in): double (nullable = true)\n |-- Weather_Condition: string (nullable = true)\n |-- Amenity: boolean (nullable = true)\n |-- Bump: boolean (nullable = true)\n |-- Crossing: boolean (nullable = true)\n |-- Junction: boolean (nullable = true)\n |-- No_Exit: boolean (nullable = true)\n |-- Railway: boolean (nullable = true)\n |-- Station: boolean (nullable = true)\n |-- Stop: boolean (nullable = true)\n |-- Turning_Loop: boolean (nullable = true)\n |-- Sunrise_Sunset: string (nullable = true)\n |-- Year: integer (nullable = true)\n |-- Month: timestamp (nullable = true)\n |-- Day: timestamp (nullable = true)\n |-- Weekday: integer (nullable = true)\n |-- Hour: timestamp (nullable = true)\n |-- Time Duration (min): double (nullable = true)\n\n"
     ]
    }
   ],
   "source": [
    "us_df.printSchema()"
   ]
  },
  {
   "cell_type": "code",
   "execution_count": 0,
   "metadata": {
    "application/vnd.databricks.v1+cell": {
     "cellMetadata": {
      "byteLimit": 2048000,
      "rowLimit": 10000
     },
     "inputWidgets": {},
     "nuid": "6210b861-004d-42ec-8a32-31eb93f1db93",
     "showTitle": false,
     "title": ""
    }
   },
   "outputs": [],
   "source": [
    "from pyspark.ml.feature import StringIndexer, OneHotEncoder, VectorIndexer\n",
    "from pyspark.ml import Pipeline"
   ]
  },
  {
   "cell_type": "code",
   "execution_count": 0,
   "metadata": {
    "application/vnd.databricks.v1+cell": {
     "cellMetadata": {
      "byteLimit": 2048000,
      "rowLimit": 10000
     },
     "inputWidgets": {},
     "nuid": "38b5c300-791e-4849-9fa8-1bd261913dce",
     "showTitle": false,
     "title": ""
    }
   },
   "outputs": [],
   "source": [
    "from pyspark.sql.functions import col, year, month, dayofmonth, dayofweek, hour\n",
    "from pyspark.sql.functions import to_timestamp"
   ]
  },
  {
   "cell_type": "code",
   "execution_count": 0,
   "metadata": {
    "application/vnd.databricks.v1+cell": {
     "cellMetadata": {
      "byteLimit": 2048000,
      "rowLimit": 10000
     },
     "inputWidgets": {},
     "nuid": "d491ae8e-f5c4-4421-a4de-848e91ef898b",
     "showTitle": false,
     "title": ""
    }
   },
   "outputs": [],
   "source": [
    "us_df = us_df.withColumn('Month',month(col(\"Month\"))).withColumn('Hour',\n",
    "    hour(col(\"Hour\")))"
   ]
  },
  {
   "cell_type": "code",
   "execution_count": 0,
   "metadata": {
    "application/vnd.databricks.v1+cell": {
     "cellMetadata": {
      "byteLimit": 2048000,
      "rowLimit": 10000
     },
     "inputWidgets": {},
     "nuid": "79bf7c2c-fbca-4c81-b301-d62f2cd49668",
     "showTitle": false,
     "title": ""
    }
   },
   "outputs": [],
   "source": [
    "us_df = us_df.withColumn('Day',dayofmonth(col('Day')))"
   ]
  },
  {
   "cell_type": "code",
   "execution_count": 0,
   "metadata": {
    "application/vnd.databricks.v1+cell": {
     "cellMetadata": {
      "byteLimit": 2048000,
      "rowLimit": 10000
     },
     "inputWidgets": {},
     "nuid": "27c88348-cfa0-44cc-bc98-cd5eebfdcaab",
     "showTitle": false,
     "title": ""
    }
   },
   "outputs": [],
   "source": [
    "from pyspark.ml.feature import VectorAssembler, StringIndexer  \n",
    "from pyspark.sql.functions import col"
   ]
  },
  {
   "cell_type": "code",
   "execution_count": 0,
   "metadata": {
    "application/vnd.databricks.v1+cell": {
     "cellMetadata": {
      "byteLimit": 2048000,
      "rowLimit": 10000
     },
     "inputWidgets": {},
     "nuid": "2bceb545-dd84-495c-be91-7c61eb5436d5",
     "showTitle": false,
     "title": ""
    }
   },
   "outputs": [
    {
     "output_type": "stream",
     "name": "stdout",
     "output_type": "stream",
     "text": [
      "+--------+---------+------------------+-----------------+------------------+------------------+-----------+-------+----------+--------------+-------------+-----------+------------+--------------+---------------+-----------------+-----------------+-------+-----+--------+--------+-------+-------+-------+-----+------------+--------------+----+-----+---+-------+----+-------------------+----------+-------------+--------------+--------------------+--------------------+-----------------------+-------------------+---------------------+----------------------+----------------------------+----------------------------+-------------------------------+--------------------+\n|Severity|Start_Lat|         Start_Lng|          End_Lat|           End_Lng|      Distance(mi)|       City|Zipcode|  Timezone|Temperature(F)|Wind_Chill(F)|Humidity(%)|Pressure(in)|Wind_Direction|Wind_Speed(mph)|Precipitation(in)|Weather_Condition|Amenity| Bump|Crossing|Junction|No_Exit|Railway|Station| Stop|Turning_Loop|Sunrise_Sunset|Year|Month|Day|Weekday|Hour|Time Duration (min)|City_index|Zipcode_index|Timezone_index|Wind_Direction_index|Sunrise_Sunset_index|Weather_Condition_index| City_index_encoded|Zipcode_index_encoded|Timezone_index_encoded|Wind_Direction_index_encoded|Sunrise_Sunset_index_encoded|Weather_Condition_index_encoded|            features|\n+--------+---------+------------------+-----------------+------------------+------------------+-----------+-------+----------+--------------+-------------+-----------+------------+--------------+---------------+-----------------+-----------------+-------+-----+--------+--------+-------+-------+-------+-----+------------+--------------+----+-----+---+-------+----+-------------------+----------+-------------+--------------+--------------------+--------------------+-----------------------+-------------------+---------------------+----------------------+----------------------------+----------------------------+-------------------------------+--------------------+\n|       3| 40.10891|         -83.09286|         40.11206|         -83.03187|              3.23|     Dublin|  43017|US/Eastern|          42.1|         36.1|       58.0|       29.76|            SW|           10.4|              0.0|       Light Rain|  false|false|   false|   false|  false|  false|  false|false|       false|         Night|2016|    2|  8|      1|   0|              360.0|     348.0|       4048.0|           0.0|                 9.0|                 1.0|                    4.0| (7071,[348],[1.0])| (57520,[4048],[1.0])|         (3,[0],[1.0])|              (22,[9],[1.0])|                   (1,[],[])|                 (95,[4],[1.0])|(64739,[348,11119...|\n|       3|39.172393|-84.49279200000002|        39.170476|        -84.501798|               0.5| Cincinnati|  45217|US/Eastern|          37.0|         29.8|       93.0|       29.69|           WSW|           10.4|             0.01|       Light Rain|  false|false|   false|   false|  false|  false|  false|false|       false|           Day|2016|    2|  8|      1|   7|              360.0|      93.0|       6771.0|           0.0|                10.0|                 0.0|                    4.0|  (7071,[93],[1.0])| (57520,[6771],[1.0])|         (3,[0],[1.0])|             (22,[10],[1.0])|               (1,[0],[1.0])|                 (95,[4],[1.0])|(64739,[93,13842,...|\n|       2| 41.37531|-81.82016999999998|         41.36786|         -81.82174|             0.521|  Cleveland|  44130|US/Eastern|          33.1|         30.0|       92.0|       29.63|            SW|            3.5|             0.08|             Snow|  false|false|   false|    true|  false|  false|  false|false|       false|           Day|2016|    2|  8|      1|  11|              360.0|      90.0|       8138.0|           0.0|                 9.0|                 0.0|                   11.0|  (7071,[90],[1.0])| (57520,[8138],[1.0])|         (3,[0],[1.0])|              (22,[9],[1.0])|               (1,[0],[1.0])|                (95,[11],[1.0])|(64739,[90,15209,...|\n|       2| 40.10931|         -82.96849|         40.11078|           -82.984|             0.826|Westerville|  43081|US/Eastern|          32.0|         28.7|      100.0|       29.59|          West|            3.5|             0.05|             Snow|  false|false|   false|   false|  false|  false|  false|false|       false|           Day|2016|    2|  8|      1|  15|              360.0|    1259.0|       1453.0|           0.0|                19.0|                 0.0|                   11.0|(7071,[1259],[1.0])| (57520,[1453],[1.0])|         (3,[0],[1.0])|             (22,[19],[1.0])|               (1,[0],[1.0])|                (95,[11],[1.0])|(64739,[1259,8524...|\n|       2| 39.19288|         -84.47723|         39.19615|         -84.47335|             0.307| Cincinnati|  45216|US/Eastern|          33.8|         29.6|      100.0|       29.66|           NNW|            4.6|             0.03|       Light Snow|  false|false|   false|   false|  false|  false|  false|false|       false|           Day|2016|    2|  8|      1|  15|              360.0|      93.0|       2136.0|           0.0|                12.0|                 0.0|                    5.0|  (7071,[93],[1.0])| (57520,[2136],[1.0])|         (3,[0],[1.0])|             (22,[12],[1.0])|               (1,[0],[1.0])|                 (95,[5],[1.0])|(64739,[93,9207,6...|\n|       2|  41.4739|        -81.704233|         41.47388|         -81.70559|              0.07|  Cleveland|  44113|US/Eastern|          33.1|         24.4|       96.0|       29.59|          West|           11.5|              0.0|       Light Snow|  false|false|   false|   false|  false|  false|  false|false|       false|           Day|2016|    2|  8|      1|  17|              360.0|      90.0|       1756.0|           0.0|                19.0|                 0.0|                    5.0|  (7071,[90],[1.0])| (57520,[1756],[1.0])|         (3,[0],[1.0])|             (22,[19],[1.0])|               (1,[0],[1.0])|                 (95,[5],[1.0])|(64739,[90,8827,6...|\n|       2|39.582242|        -83.677814|        39.603013|-83.63731899999998|              2.59|  Jamestown|  45335|US/Eastern|          33.8|         28.6|       93.0|       29.64|          West|            5.8|             0.01|       Light Snow|  false|false|   false|   false|  false|  false|  false|false|       false|           Day|2016|    2|  8|      1|  17|              360.0|     541.0|       5938.0|           0.0|                19.0|                 0.0|                    5.0| (7071,[541],[1.0])| (57520,[5938],[1.0])|         (3,[0],[1.0])|             (22,[19],[1.0])|               (1,[0],[1.0])|                 (95,[5],[1.0])|(64739,[541,13009...|\n|       3| 40.02664|          -82.9944|         40.01228|         -82.99218|             0.999|   Columbus|  43224|US/Eastern|          33.8|         27.0|      100.0|       29.63|          West|            8.1|              0.0|       Light Snow|  false|false|   false|   false|  false|  false|  false|false|       false|         Night|2016|    2|  8|      1|  20|              360.0|      65.0|       4049.0|           0.0|                19.0|                 1.0|                    5.0|  (7071,[65],[1.0])| (57520,[4049],[1.0])|         (3,[0],[1.0])|             (22,[19],[1.0])|                   (1,[],[])|                 (95,[5],[1.0])|(64739,[65,11120,...|\n|       2| 40.99613|         -85.26613|         40.98982|         -85.26986|             0.477|    Roanoke|  46783|US/Eastern|          28.0|         16.1|       88.0|       29.71|          West|           16.1|              0.0|       Light Snow|  false|false|   false|   false|  false|  false|  false|false|       false|         Night|2016|    2|  8|      1|  21|              360.0|     379.0|      11597.0|           0.0|                19.0|                 1.0|                    5.0| (7071,[379],[1.0])| (57520,[11597],[1...|         (3,[0],[1.0])|             (22,[19],[1.0])|                   (1,[],[])|                 (95,[5],[1.0])|(64739,[379,18668...|\n|       3|  39.0381|-84.59243000000002|         39.03475|         -84.60007|             0.471|Ft Mitchell|  41017|US/Eastern|          26.6|         15.2|       80.0|       29.73|          West|           13.8|              0.0|       Light Snow|  false|false|   false|   false|  false|  false|  false|false|       false|         Night|2016|    2|  8|      1|  21|              360.0|    2896.0|       4424.0|           0.0|                19.0|                 1.0|                    5.0|(7071,[2896],[1.0])| (57520,[4424],[1.0])|         (3,[0],[1.0])|             (22,[19],[1.0])|                   (1,[],[])|                 (95,[5],[1.0])|(64739,[2896,1149...|\n|       2| 40.03386|         -82.99601|         40.02246|         -82.99515|             0.789|   Columbus|  43224|US/Eastern|          25.0|         15.5|       88.0|       29.65|            SW|            9.2|             0.02|       Light Snow|  false|false|   false|   false|  false|  false|  false|false|       false|         Night|2016|    2|  9|      2|   5|              360.0|      65.0|       4049.0|           0.0|                 9.0|                 1.0|                    5.0|  (7071,[65],[1.0])| (57520,[4049],[1.0])|         (3,[0],[1.0])|              (22,[9],[1.0])|                   (1,[],[])|                 (95,[5],[1.0])|(64739,[65,11120,...|\n|       2| 39.85798|         -84.28181|         39.86441|         -84.21554|             3.543|     Dayton|  45415|US/Eastern|          23.0|         10.1|       88.0|       29.66|          West|           15.0|              0.0|       Light Snow|  false|false|   false|   false|  false|  false|  false|false|       false|         Night|2016|    2|  9|      2|   6|              360.0|      80.0|      11559.0|           0.0|                19.0|                 1.0|                    5.0|  (7071,[80],[1.0])| (57520,[11559],[1...|         (3,[0],[1.0])|             (22,[19],[1.0])|                   (1,[],[])|                 (95,[5],[1.0])|(64739,[80,18630,...|\n|       2| 39.15267|          -84.5395|         39.14745|         -84.53923|             0.361| Cincinnati|  45223|US/Eastern|          21.0|          9.3|       88.0|       29.78|           WSW|           11.5|             0.01|       Light Snow|  false|false|   false|   false|  false|  false|  false|false|       false|         Night|2016|    2|  9|      2|   6|              360.0|      93.0|       3506.0|           0.0|                10.0|                 1.0|                    5.0|  (7071,[93],[1.0])| (57520,[3506],[1.0])|         (3,[0],[1.0])|             (22,[10],[1.0])|                   (1,[],[])|                 (95,[5],[1.0])|(64739,[93,10577,...|\n|       3| 39.58595|         -85.82518|         39.58444|         -85.82301|             0.156|Shelbyville|  46176|US/Eastern|          21.9|          9.8|       82.0|       29.75|          West|           12.7|              0.0|       Light Snow|  false|false|   false|   false|  false|  false|  false|false|       false|           Day|2016|    2|  9|      2|   7|              360.0|    2811.0|       8172.0|           0.0|                19.0|                 0.0|                    5.0|(7071,[2811],[1.0])| (57520,[8172],[1.0])|         (3,[0],[1.0])|             (22,[19],[1.0])|               (1,[0],[1.0])|                 (95,[5],[1.0])|(64739,[2811,1524...|\n|       3| 39.45132|         -85.62516|39.36277000000001|         -85.51655|             8.429| Saint Paul|  47272|US/Eastern|          21.2|          8.9|       86.0|       29.75|          West|           12.7|              0.0|       Light Snow|  false|false|   false|   false|  false|  false|  false|false|       false|           Day|2016|    2|  9|      2|   7|              360.0|      20.0|      36363.0|           0.0|                19.0|                 0.0|                    5.0|  (7071,[20],[1.0])| (57520,[36363],[1...|         (3,[0],[1.0])|             (22,[19],[1.0])|               (1,[0],[1.0])|                 (95,[5],[1.0])|(64739,[20,43434,...|\n|       2| 39.75067|         -84.14148|         39.74883|-84.13401999999998|             0.416|     Dayton|  45410|US/Eastern|          22.5|         12.4|       90.0|       29.73|            SW|            9.2|              0.0|       Light Snow|  false|false|   false|   false|  false|  false|  false|false|       false|           Day|2016|    2|  9|      2|   8|              360.0|      80.0|       4053.0|           0.0|                 9.0|                 0.0|                    5.0|  (7071,[80],[1.0])| (57520,[4053],[1.0])|         (3,[0],[1.0])|              (22,[9],[1.0])|               (1,[0],[1.0])|                 (95,[5],[1.0])|(64739,[80,11124,...|\n|       3|  39.2675|         -81.49929|         39.26867|         -81.49909|0.0819999999999999|Parkersburg|  26104|US/Eastern|          24.1|         13.7|       88.0|       29.72|           WSW|           10.4|             0.02|       Light Snow|  false|false|   false|   false|  false|  false|  false|false|       false|           Day|2016|    2|  9|      2|   8|              360.0|    1579.0|       3240.0|           0.0|                10.0|                 0.0|                    5.0|(7071,[1579],[1.0])| (57520,[3240],[1.0])|         (3,[0],[1.0])|             (22,[10],[1.0])|               (1,[0],[1.0])|                 (95,[5],[1.0])|(64739,[1579,1031...|\n|       2| 40.52225|         -80.06666|          40.5283|-80.07188000000002|               0.5| Pittsburgh|  15237|US/Eastern|          30.0|         20.0|       88.0|       29.56|          West|           12.7|              0.0|       Light Snow|  false|false|   false|   false|  false|  false|  false|false|       false|           Day|2016|    2|  9|      2|  11|              360.0|      66.0|       1814.0|           0.0|                19.0|                 0.0|                    5.0|  (7071,[66],[1.0])| (57520,[1814],[1.0])|         (3,[0],[1.0])|             (22,[19],[1.0])|               (1,[0],[1.0])|                 (95,[5],[1.0])|(64739,[66,8885,6...|\n|       2|40.487814|        -80.009439|         40.48614|        -80.009008|             0.118| Pittsburgh|  15214|US/Eastern|          28.9|         18.2|       82.0|       29.61|            SW|           13.8|              0.0|       Light Snow|  false|false|   false|   false|  false|  false|  false|false|       false|           Day|2016|    2|  9|      2|  12|              360.0|      66.0|       3648.0|           0.0|                 9.0|                 0.0|                    5.0|  (7071,[66],[1.0])| (57520,[3648],[1.0])|         (3,[0],[1.0])|              (22,[9],[1.0])|               (1,[0],[1.0])|                 (95,[5],[1.0])|(64739,[66,10719,...|\n|       2| 41.47461|-81.71181999999997|         41.47023|-81.74188000000002|             1.585|  Cleveland|  44113|US/Eastern|          30.9|         18.7|       92.0|       29.62|          West|           19.6|              0.0|       Light Snow|  false|false|   false|   false|  false|  false|  false|false|       false|           Day|2016|    2|  9|      2|  17|              360.0|      90.0|       1756.0|           0.0|                19.0|                 0.0|                    5.0|  (7071,[90],[1.0])| (57520,[1756],[1.0])|         (3,[0],[1.0])|             (22,[19],[1.0])|               (1,[0],[1.0])|                 (95,[5],[1.0])|(64739,[90,8827,6...|\n+--------+---------+------------------+-----------------+------------------+------------------+-----------+-------+----------+--------------+-------------+-----------+------------+--------------+---------------+-----------------+-----------------+-------+-----+--------+--------+-------+-------+-------+-----+------------+--------------+----+-----+---+-------+----+-------------------+----------+-------------+--------------+--------------------+--------------------+-----------------------+-------------------+---------------------+----------------------+----------------------------+----------------------------+-------------------------------+--------------------+\nonly showing top 20 rows\n\n"
     ]
    }
   ],
   "source": [
    "# List of columns that need preprocessing\n",
    "categorical_cols = [\"City\", \"Zipcode\", \"Timezone\", \"Wind_Direction\", \"Sunrise_Sunset\",\"Weather_Condition\"]\n",
    "\n",
    "# Create a list of stages for the pipeline\n",
    "stages = []\n",
    "\n",
    "# String Indexing for categorical columns\n",
    "for col_name in categorical_cols:\n",
    "    indexer = StringIndexer(inputCol=col_name, outputCol=f\"{col_name}_index\")\n",
    "    stages.append(indexer)\n",
    "\n",
    "# One-Hot Encoding for indexed categorical columns\n",
    "for col_name in [f\"{col_name}_index\" for col_name in categorical_cols]:\n",
    "    encoder = OneHotEncoder(inputCol=col_name, outputCol=f\"{col_name}_encoded\")\n",
    "    stages.append(encoder)\n",
    "\n",
    "# List of columns after one-hot encoding\n",
    "encoded_cols = [f\"{col_name}_encoded\" for col_name in [f\"{col_name}_index\" for col_name in categorical_cols]]\n",
    "\n",
    "# Assemble features into a vector column\n",
    "feature_cols = [\"Severity\", \"Start_Lat\", \"Start_Lng\", \"End_Lat\", \"End_Lng\", \"Distance(mi)\", \"Temperature(F)\",\n",
    "                \"Wind_Chill(F)\", \"Humidity(%)\", \"Pressure(in)\", \"Wind_Speed(mph)\", \"Precipitation(in)\",\n",
    "                \"Amenity\", \"Bump\", \"Crossing\", \"Junction\", \"No_Exit\", \"Railway\", \"Station\", \"Stop\",\n",
    "                \"Turning_Loop\", \"Year\", \"Month\", \"Day\", \"Weekday\", \"Hour\", \"Time Duration (min)\"]\n",
    "assembler = VectorAssembler(inputCols=encoded_cols + feature_cols, outputCol=\"features\")\n",
    "stages.append(assembler)\n",
    "\n",
    "# Create a pipeline with all stages\n",
    "pipeline = Pipeline(stages=stages)\n",
    "\n",
    "# Fit and transform the pipeline\n",
    "pipeline_model = pipeline.fit(us_df)\n",
    "preprocessed_df = pipeline_model.transform(us_df)\n",
    "\n",
    "# Show the resulting DataFrame\n",
    "preprocessed_df.show()"
   ]
  },
  {
   "cell_type": "code",
   "execution_count": 0,
   "metadata": {
    "application/vnd.databricks.v1+cell": {
     "cellMetadata": {
      "byteLimit": 2048000,
      "rowLimit": 10000
     },
     "inputWidgets": {},
     "nuid": "93a5aaaf-355f-4805-bef8-41e8efa6ed6e",
     "showTitle": false,
     "title": ""
    }
   },
   "outputs": [
    {
     "output_type": "execute_result",
     "data": {
      "text/plain": [
       "['City_index_encoded',\n",
       " 'Zipcode_index_encoded',\n",
       " 'Timezone_index_encoded',\n",
       " 'Wind_Direction_index_encoded',\n",
       " 'Sunrise_Sunset_index_encoded',\n",
       " 'Weather_Condition_index_encoded']"
      ]
     },
     "execution_count": 32,
     "metadata": {},
     "output_type": "execute_result"
    }
   ],
   "source": [
    "encoded_cols"
   ]
  },
  {
   "cell_type": "code",
   "execution_count": 0,
   "metadata": {
    "application/vnd.databricks.v1+cell": {
     "cellMetadata": {
      "byteLimit": 2048000,
      "rowLimit": 10000
     },
     "inputWidgets": {},
     "nuid": "e4d1a037-50a2-44b1-889b-a02e05ae41f3",
     "showTitle": false,
     "title": ""
    }
   },
   "outputs": [
    {
     "output_type": "stream",
     "name": "stdout",
     "output_type": "stream",
     "text": [
      "+--------------------+\n|            features|\n+--------------------+\n|(64739,[348,11119...|\n|(64739,[93,13842,...|\n|(64739,[90,15209,...|\n|(64739,[1259,8524...|\n|(64739,[93,9207,6...|\n|(64739,[90,8827,6...|\n|(64739,[541,13009...|\n|(64739,[65,11120,...|\n|(64739,[379,18668...|\n|(64739,[2896,1149...|\n|(64739,[65,11120,...|\n|(64739,[80,18630,...|\n|(64739,[93,10577,...|\n|(64739,[2811,1524...|\n|(64739,[20,43434,...|\n|(64739,[80,11124,...|\n|(64739,[1579,1031...|\n|(64739,[66,8885,6...|\n|(64739,[66,10719,...|\n|(64739,[90,8827,6...|\n+--------------------+\nonly showing top 20 rows\n\n"
     ]
    }
   ],
   "source": [
    "preprocessed_df.select('features').show()"
   ]
  },
  {
   "cell_type": "code",
   "execution_count": 0,
   "metadata": {
    "application/vnd.databricks.v1+cell": {
     "cellMetadata": {
      "byteLimit": 2048000,
      "rowLimit": 10000
     },
     "inputWidgets": {},
     "nuid": "bec0fc94-21c3-4563-90b9-21b7006571fb",
     "showTitle": false,
     "title": ""
    }
   },
   "outputs": [
    {
     "output_type": "execute_result",
     "data": {
      "text/plain": [
       "200000"
      ]
     },
     "execution_count": 22,
     "metadata": {},
     "output_type": "execute_result"
    }
   ],
   "source": [
    "us_df.count()"
   ]
  },
  {
   "cell_type": "code",
   "execution_count": 0,
   "metadata": {
    "application/vnd.databricks.v1+cell": {
     "cellMetadata": {
      "byteLimit": 2048000,
      "rowLimit": 10000
     },
     "inputWidgets": {},
     "nuid": "6cb0ea4a-24ef-4181-b0ae-92f56d76db09",
     "showTitle": false,
     "title": ""
    }
   },
   "outputs": [],
   "source": [
    "final_df = preprocessed_df.select('features','Severity')"
   ]
  },
  {
   "cell_type": "code",
   "execution_count": 0,
   "metadata": {
    "application/vnd.databricks.v1+cell": {
     "cellMetadata": {
      "byteLimit": 2048000,
      "rowLimit": 10000
     },
     "inputWidgets": {},
     "nuid": "44d7b2c2-c195-4654-8afb-6bd0a6d2b630",
     "showTitle": false,
     "title": ""
    }
   },
   "outputs": [],
   "source": [
    "train_data,test_data = final_df.randomSplit([0.7,0.3],seed=42)"
   ]
  },
  {
   "cell_type": "markdown",
   "metadata": {
    "application/vnd.databricks.v1+cell": {
     "cellMetadata": {},
     "inputWidgets": {},
     "nuid": "e1f370e1-94f2-4b2a-8aed-e6ad0f17ec55",
     "showTitle": false,
     "title": ""
    }
   },
   "source": [
    "# LOGISTIC REGRESSION"
   ]
  },
  {
   "cell_type": "code",
   "execution_count": 0,
   "metadata": {
    "application/vnd.databricks.v1+cell": {
     "cellMetadata": {
      "byteLimit": 2048000,
      "rowLimit": 10000
     },
     "inputWidgets": {},
     "nuid": "90d51cb6-80fa-4e28-a0d3-392f0337a0cd",
     "showTitle": false,
     "title": ""
    }
   },
   "outputs": [],
   "source": [
    "from pyspark.ml.classification import LogisticRegression\n",
    "from pyspark.ml.evaluation import BinaryClassificationEvaluator,MulticlassClassificationEvaluator"
   ]
  },
  {
   "cell_type": "code",
   "execution_count": 0,
   "metadata": {
    "application/vnd.databricks.v1+cell": {
     "cellMetadata": {
      "byteLimit": 2048000,
      "rowLimit": 10000
     },
     "inputWidgets": {},
     "nuid": "9f4a0f8c-1721-41f0-ab08-e95172584cde",
     "showTitle": false,
     "title": ""
    }
   },
   "outputs": [],
   "source": [
    "log_reg = LogisticRegression(featuresCol='features',labelCol='Severity')"
   ]
  },
  {
   "cell_type": "code",
   "execution_count": 0,
   "metadata": {
    "application/vnd.databricks.v1+cell": {
     "cellMetadata": {
      "byteLimit": 2048000,
      "rowLimit": 10000
     },
     "inputWidgets": {},
     "nuid": "0e636bd3-3025-4e7a-b7d0-95e0305f43f7",
     "showTitle": false,
     "title": ""
    }
   },
   "outputs": [],
   "source": [
    "log_reg_model = log_reg.fit(train_data)"
   ]
  },
  {
   "cell_type": "code",
   "execution_count": 0,
   "metadata": {
    "application/vnd.databricks.v1+cell": {
     "cellMetadata": {
      "byteLimit": 2048000,
      "rowLimit": 10000
     },
     "inputWidgets": {},
     "nuid": "b6a248ff-2153-41d1-b906-af2782ba09e5",
     "showTitle": false,
     "title": ""
    }
   },
   "outputs": [],
   "source": [
    "predictions = log_reg_model.transform(test_data)"
   ]
  },
  {
   "cell_type": "code",
   "execution_count": 0,
   "metadata": {
    "application/vnd.databricks.v1+cell": {
     "cellMetadata": {
      "byteLimit": 2048000,
      "rowLimit": 10000
     },
     "inputWidgets": {},
     "nuid": "f6315588-dd82-4957-9b44-8e515b4a6975",
     "showTitle": false,
     "title": ""
    }
   },
   "outputs": [
    {
     "output_type": "stream",
     "name": "stdout",
     "output_type": "stream",
     "text": [
      "+--------------------+--------+--------------------+--------------------+----------+\n|            features|Severity|       rawPrediction|         probability|prediction|\n+--------------------+--------+--------------------+--------------------+----------+\n|(64739,[0,7075,64...|       2|[-5.4626466728440...|[1.32491690972221...|       2.0|\n|(64739,[0,7075,64...|       2|[-5.4631935265005...|[2.62948516632558...|       2.0|\n|(64739,[0,7075,64...|       2|[-5.4601945316914...|[9.48239838559812...|       2.0|\n|(64739,[0,7075,64...|       2|[-5.4591629974348...|[1.49241208732829...|       2.0|\n|(64739,[0,7075,64...|       2|[-5.4628480811400...|[3.53600062426869...|       2.0|\n|(64739,[0,7075,64...|       2|[-5.4619476467814...|[4.06026403963626...|       2.0|\n|(64739,[0,7075,64...|       2|[-5.4629158682354...|[7.63034917757077...|       2.0|\n|(64739,[0,7075,64...|       2|[-5.4610728323604...|[8.91825438597174...|       2.0|\n|(64739,[0,7075,64...|       2|[-5.4619321900545...|[1.93768949395851...|       2.0|\n|(64739,[0,7075,64...|       2|[-5.4631128906256...|[1.67822740383797...|       2.0|\n|(64739,[0,7075,64...|       2|[-5.4625494216426...|[1.24380942168719...|       2.0|\n|(64739,[0,7075,64...|       2|[-5.4611392834713...|[7.87458167093887...|       2.0|\n|(64739,[0,7075,64...|       2|[-5.4615885626793...|[7.32171773338460...|       2.0|\n|(64739,[0,7075,64...|       2|[-5.4617677736067...|[4.38108917533468...|       2.0|\n|(64739,[0,7075,64...|       2|[-5.4619158356885...|[5.22348562881867...|       2.0|\n|(64739,[0,7075,64...|       2|[-5.4615704883200...|[5.31255472934268...|       2.0|\n|(64739,[0,7075,64...|       2|[-5.4592779227608...|[3.01004802596916...|       2.0|\n|(64739,[0,7075,64...|       2|[-5.4624478848514...|[9.93146913877708...|       2.0|\n|(64739,[0,7075,64...|       2|[-5.4622943232393...|[2.93994634116904...|       2.0|\n|(64739,[0,7075,64...|       2|[-5.4627649190101...|[4.48593292306995...|       2.0|\n+--------------------+--------+--------------------+--------------------+----------+\nonly showing top 20 rows\n\n"
     ]
    }
   ],
   "source": [
    "predictions.show()"
   ]
  },
  {
   "cell_type": "code",
   "execution_count": 0,
   "metadata": {
    "application/vnd.databricks.v1+cell": {
     "cellMetadata": {
      "byteLimit": 2048000,
      "rowLimit": 10000
     },
     "inputWidgets": {},
     "nuid": "2b6ebf58-0944-4aea-acae-12d93bbcd6df",
     "showTitle": false,
     "title": ""
    }
   },
   "outputs": [
    {
     "output_type": "display_data",
     "data": {
      "text/plain": [
       "\u001B[0;31m---------------------------------------------------------------------------\u001B[0m\n",
       "\u001B[0;31mIllegalArgumentException\u001B[0m                  Traceback (most recent call last)\n",
       "File \u001B[0;32m<command-2500396693763356>, line 2\u001B[0m\n",
       "\u001B[1;32m      1\u001B[0m evaluator \u001B[38;5;241m=\u001B[39m BinaryClassificationEvaluator(rawPredictionCol\u001B[38;5;241m=\u001B[39m\u001B[38;5;124m\"\u001B[39m\u001B[38;5;124mrawPrediction\u001B[39m\u001B[38;5;124m\"\u001B[39m, labelCol\u001B[38;5;241m=\u001B[39m\u001B[38;5;124m\"\u001B[39m\u001B[38;5;124mSeverity\u001B[39m\u001B[38;5;124m\"\u001B[39m, metricName\u001B[38;5;241m=\u001B[39m\u001B[38;5;124m\"\u001B[39m\u001B[38;5;124mareaUnderROC\u001B[39m\u001B[38;5;124m\"\u001B[39m)\n",
       "\u001B[0;32m----> 2\u001B[0m auc \u001B[38;5;241m=\u001B[39m evaluator\u001B[38;5;241m.\u001B[39mevaluate(predictions)\n",
       "\u001B[1;32m      3\u001B[0m \u001B[38;5;28mprint\u001B[39m(\u001B[38;5;124m\"\u001B[39m\u001B[38;5;124mArea Under ROC Curve (AUC) = \u001B[39m\u001B[38;5;132;01m%g\u001B[39;00m\u001B[38;5;124m\"\u001B[39m \u001B[38;5;241m%\u001B[39m auc)\n",
       "\n",
       "File \u001B[0;32m/databricks/spark/python/pyspark/ml/evaluation.py:111\u001B[0m, in \u001B[0;36mEvaluator.evaluate\u001B[0;34m(self, dataset, params)\u001B[0m\n",
       "\u001B[1;32m    109\u001B[0m         \u001B[38;5;28;01mreturn\u001B[39;00m \u001B[38;5;28mself\u001B[39m\u001B[38;5;241m.\u001B[39mcopy(params)\u001B[38;5;241m.\u001B[39m_evaluate(dataset)\n",
       "\u001B[1;32m    110\u001B[0m     \u001B[38;5;28;01melse\u001B[39;00m:\n",
       "\u001B[0;32m--> 111\u001B[0m         \u001B[38;5;28;01mreturn\u001B[39;00m \u001B[38;5;28;43mself\u001B[39;49m\u001B[38;5;241;43m.\u001B[39;49m\u001B[43m_evaluate\u001B[49m\u001B[43m(\u001B[49m\u001B[43mdataset\u001B[49m\u001B[43m)\u001B[49m\n",
       "\u001B[1;32m    112\u001B[0m \u001B[38;5;28;01melse\u001B[39;00m:\n",
       "\u001B[1;32m    113\u001B[0m     \u001B[38;5;28;01mraise\u001B[39;00m \u001B[38;5;167;01mTypeError\u001B[39;00m(\u001B[38;5;124m\"\u001B[39m\u001B[38;5;124mParams must be a param map but got \u001B[39m\u001B[38;5;132;01m%s\u001B[39;00m\u001B[38;5;124m.\u001B[39m\u001B[38;5;124m\"\u001B[39m \u001B[38;5;241m%\u001B[39m \u001B[38;5;28mtype\u001B[39m(params))\n",
       "\n",
       "File \u001B[0;32m/databricks/spark/python/pyspark/ml/evaluation.py:148\u001B[0m, in \u001B[0;36mJavaEvaluator._evaluate\u001B[0;34m(self, dataset)\u001B[0m\n",
       "\u001B[1;32m    146\u001B[0m \u001B[38;5;28mself\u001B[39m\u001B[38;5;241m.\u001B[39m_transfer_params_to_java()\n",
       "\u001B[1;32m    147\u001B[0m \u001B[38;5;28;01massert\u001B[39;00m \u001B[38;5;28mself\u001B[39m\u001B[38;5;241m.\u001B[39m_java_obj \u001B[38;5;129;01mis\u001B[39;00m \u001B[38;5;129;01mnot\u001B[39;00m \u001B[38;5;28;01mNone\u001B[39;00m\n",
       "\u001B[0;32m--> 148\u001B[0m \u001B[38;5;28;01mreturn\u001B[39;00m \u001B[38;5;28;43mself\u001B[39;49m\u001B[38;5;241;43m.\u001B[39;49m\u001B[43m_java_obj\u001B[49m\u001B[38;5;241;43m.\u001B[39;49m\u001B[43mevaluate\u001B[49m\u001B[43m(\u001B[49m\u001B[43mdataset\u001B[49m\u001B[38;5;241;43m.\u001B[39;49m\u001B[43m_jdf\u001B[49m\u001B[43m)\u001B[49m\n",
       "\n",
       "File \u001B[0;32m/databricks/spark/python/lib/py4j-0.10.9.7-src.zip/py4j/java_gateway.py:1322\u001B[0m, in \u001B[0;36mJavaMember.__call__\u001B[0;34m(self, *args)\u001B[0m\n",
       "\u001B[1;32m   1316\u001B[0m command \u001B[38;5;241m=\u001B[39m proto\u001B[38;5;241m.\u001B[39mCALL_COMMAND_NAME \u001B[38;5;241m+\u001B[39m\\\n",
       "\u001B[1;32m   1317\u001B[0m     \u001B[38;5;28mself\u001B[39m\u001B[38;5;241m.\u001B[39mcommand_header \u001B[38;5;241m+\u001B[39m\\\n",
       "\u001B[1;32m   1318\u001B[0m     args_command \u001B[38;5;241m+\u001B[39m\\\n",
       "\u001B[1;32m   1319\u001B[0m     proto\u001B[38;5;241m.\u001B[39mEND_COMMAND_PART\n",
       "\u001B[1;32m   1321\u001B[0m answer \u001B[38;5;241m=\u001B[39m \u001B[38;5;28mself\u001B[39m\u001B[38;5;241m.\u001B[39mgateway_client\u001B[38;5;241m.\u001B[39msend_command(command)\n",
       "\u001B[0;32m-> 1322\u001B[0m return_value \u001B[38;5;241m=\u001B[39m \u001B[43mget_return_value\u001B[49m\u001B[43m(\u001B[49m\n",
       "\u001B[1;32m   1323\u001B[0m \u001B[43m    \u001B[49m\u001B[43manswer\u001B[49m\u001B[43m,\u001B[49m\u001B[43m \u001B[49m\u001B[38;5;28;43mself\u001B[39;49m\u001B[38;5;241;43m.\u001B[39;49m\u001B[43mgateway_client\u001B[49m\u001B[43m,\u001B[49m\u001B[43m \u001B[49m\u001B[38;5;28;43mself\u001B[39;49m\u001B[38;5;241;43m.\u001B[39;49m\u001B[43mtarget_id\u001B[49m\u001B[43m,\u001B[49m\u001B[43m \u001B[49m\u001B[38;5;28;43mself\u001B[39;49m\u001B[38;5;241;43m.\u001B[39;49m\u001B[43mname\u001B[49m\u001B[43m)\u001B[49m\n",
       "\u001B[1;32m   1325\u001B[0m \u001B[38;5;28;01mfor\u001B[39;00m temp_arg \u001B[38;5;129;01min\u001B[39;00m temp_args:\n",
       "\u001B[1;32m   1326\u001B[0m     \u001B[38;5;28;01mif\u001B[39;00m \u001B[38;5;28mhasattr\u001B[39m(temp_arg, \u001B[38;5;124m\"\u001B[39m\u001B[38;5;124m_detach\u001B[39m\u001B[38;5;124m\"\u001B[39m):\n",
       "\n",
       "File \u001B[0;32m/databricks/spark/python/pyspark/errors/exceptions/captured.py:194\u001B[0m, in \u001B[0;36mcapture_sql_exception.<locals>.deco\u001B[0;34m(*a, **kw)\u001B[0m\n",
       "\u001B[1;32m    190\u001B[0m converted \u001B[38;5;241m=\u001B[39m convert_exception(e\u001B[38;5;241m.\u001B[39mjava_exception)\n",
       "\u001B[1;32m    191\u001B[0m \u001B[38;5;28;01mif\u001B[39;00m \u001B[38;5;129;01mnot\u001B[39;00m \u001B[38;5;28misinstance\u001B[39m(converted, UnknownException):\n",
       "\u001B[1;32m    192\u001B[0m     \u001B[38;5;66;03m# Hide where the exception came from that shows a non-Pythonic\u001B[39;00m\n",
       "\u001B[1;32m    193\u001B[0m     \u001B[38;5;66;03m# JVM exception message.\u001B[39;00m\n",
       "\u001B[0;32m--> 194\u001B[0m     \u001B[38;5;28;01mraise\u001B[39;00m converted \u001B[38;5;28;01mfrom\u001B[39;00m \u001B[38;5;28mNone\u001B[39m\n",
       "\u001B[1;32m    195\u001B[0m \u001B[38;5;28;01melse\u001B[39;00m:\n",
       "\u001B[1;32m    196\u001B[0m     \u001B[38;5;28;01mraise\u001B[39;00m\n",
       "\n",
       "\u001B[0;31mIllegalArgumentException\u001B[0m: requirement failed: rawPredictionCol vectors must have length=2, but got 5"
      ]
     },
     "metadata": {
      "application/vnd.databricks.v1+output": {
       "arguments": {},
       "data": "\u001B[0;31m---------------------------------------------------------------------------\u001B[0m\n\u001B[0;31mIllegalArgumentException\u001B[0m                  Traceback (most recent call last)\nFile \u001B[0;32m<command-2500396693763356>, line 2\u001B[0m\n\u001B[1;32m      1\u001B[0m evaluator \u001B[38;5;241m=\u001B[39m BinaryClassificationEvaluator(rawPredictionCol\u001B[38;5;241m=\u001B[39m\u001B[38;5;124m\"\u001B[39m\u001B[38;5;124mrawPrediction\u001B[39m\u001B[38;5;124m\"\u001B[39m, labelCol\u001B[38;5;241m=\u001B[39m\u001B[38;5;124m\"\u001B[39m\u001B[38;5;124mSeverity\u001B[39m\u001B[38;5;124m\"\u001B[39m, metricName\u001B[38;5;241m=\u001B[39m\u001B[38;5;124m\"\u001B[39m\u001B[38;5;124mareaUnderROC\u001B[39m\u001B[38;5;124m\"\u001B[39m)\n\u001B[0;32m----> 2\u001B[0m auc \u001B[38;5;241m=\u001B[39m evaluator\u001B[38;5;241m.\u001B[39mevaluate(predictions)\n\u001B[1;32m      3\u001B[0m \u001B[38;5;28mprint\u001B[39m(\u001B[38;5;124m\"\u001B[39m\u001B[38;5;124mArea Under ROC Curve (AUC) = \u001B[39m\u001B[38;5;132;01m%g\u001B[39;00m\u001B[38;5;124m\"\u001B[39m \u001B[38;5;241m%\u001B[39m auc)\n\nFile \u001B[0;32m/databricks/spark/python/pyspark/ml/evaluation.py:111\u001B[0m, in \u001B[0;36mEvaluator.evaluate\u001B[0;34m(self, dataset, params)\u001B[0m\n\u001B[1;32m    109\u001B[0m         \u001B[38;5;28;01mreturn\u001B[39;00m \u001B[38;5;28mself\u001B[39m\u001B[38;5;241m.\u001B[39mcopy(params)\u001B[38;5;241m.\u001B[39m_evaluate(dataset)\n\u001B[1;32m    110\u001B[0m     \u001B[38;5;28;01melse\u001B[39;00m:\n\u001B[0;32m--> 111\u001B[0m         \u001B[38;5;28;01mreturn\u001B[39;00m \u001B[38;5;28;43mself\u001B[39;49m\u001B[38;5;241;43m.\u001B[39;49m\u001B[43m_evaluate\u001B[49m\u001B[43m(\u001B[49m\u001B[43mdataset\u001B[49m\u001B[43m)\u001B[49m\n\u001B[1;32m    112\u001B[0m \u001B[38;5;28;01melse\u001B[39;00m:\n\u001B[1;32m    113\u001B[0m     \u001B[38;5;28;01mraise\u001B[39;00m \u001B[38;5;167;01mTypeError\u001B[39;00m(\u001B[38;5;124m\"\u001B[39m\u001B[38;5;124mParams must be a param map but got \u001B[39m\u001B[38;5;132;01m%s\u001B[39;00m\u001B[38;5;124m.\u001B[39m\u001B[38;5;124m\"\u001B[39m \u001B[38;5;241m%\u001B[39m \u001B[38;5;28mtype\u001B[39m(params))\n\nFile \u001B[0;32m/databricks/spark/python/pyspark/ml/evaluation.py:148\u001B[0m, in \u001B[0;36mJavaEvaluator._evaluate\u001B[0;34m(self, dataset)\u001B[0m\n\u001B[1;32m    146\u001B[0m \u001B[38;5;28mself\u001B[39m\u001B[38;5;241m.\u001B[39m_transfer_params_to_java()\n\u001B[1;32m    147\u001B[0m \u001B[38;5;28;01massert\u001B[39;00m \u001B[38;5;28mself\u001B[39m\u001B[38;5;241m.\u001B[39m_java_obj \u001B[38;5;129;01mis\u001B[39;00m \u001B[38;5;129;01mnot\u001B[39;00m \u001B[38;5;28;01mNone\u001B[39;00m\n\u001B[0;32m--> 148\u001B[0m \u001B[38;5;28;01mreturn\u001B[39;00m \u001B[38;5;28;43mself\u001B[39;49m\u001B[38;5;241;43m.\u001B[39;49m\u001B[43m_java_obj\u001B[49m\u001B[38;5;241;43m.\u001B[39;49m\u001B[43mevaluate\u001B[49m\u001B[43m(\u001B[49m\u001B[43mdataset\u001B[49m\u001B[38;5;241;43m.\u001B[39;49m\u001B[43m_jdf\u001B[49m\u001B[43m)\u001B[49m\n\nFile \u001B[0;32m/databricks/spark/python/lib/py4j-0.10.9.7-src.zip/py4j/java_gateway.py:1322\u001B[0m, in \u001B[0;36mJavaMember.__call__\u001B[0;34m(self, *args)\u001B[0m\n\u001B[1;32m   1316\u001B[0m command \u001B[38;5;241m=\u001B[39m proto\u001B[38;5;241m.\u001B[39mCALL_COMMAND_NAME \u001B[38;5;241m+\u001B[39m\\\n\u001B[1;32m   1317\u001B[0m     \u001B[38;5;28mself\u001B[39m\u001B[38;5;241m.\u001B[39mcommand_header \u001B[38;5;241m+\u001B[39m\\\n\u001B[1;32m   1318\u001B[0m     args_command \u001B[38;5;241m+\u001B[39m\\\n\u001B[1;32m   1319\u001B[0m     proto\u001B[38;5;241m.\u001B[39mEND_COMMAND_PART\n\u001B[1;32m   1321\u001B[0m answer \u001B[38;5;241m=\u001B[39m \u001B[38;5;28mself\u001B[39m\u001B[38;5;241m.\u001B[39mgateway_client\u001B[38;5;241m.\u001B[39msend_command(command)\n\u001B[0;32m-> 1322\u001B[0m return_value \u001B[38;5;241m=\u001B[39m \u001B[43mget_return_value\u001B[49m\u001B[43m(\u001B[49m\n\u001B[1;32m   1323\u001B[0m \u001B[43m    \u001B[49m\u001B[43manswer\u001B[49m\u001B[43m,\u001B[49m\u001B[43m \u001B[49m\u001B[38;5;28;43mself\u001B[39;49m\u001B[38;5;241;43m.\u001B[39;49m\u001B[43mgateway_client\u001B[49m\u001B[43m,\u001B[49m\u001B[43m \u001B[49m\u001B[38;5;28;43mself\u001B[39;49m\u001B[38;5;241;43m.\u001B[39;49m\u001B[43mtarget_id\u001B[49m\u001B[43m,\u001B[49m\u001B[43m \u001B[49m\u001B[38;5;28;43mself\u001B[39;49m\u001B[38;5;241;43m.\u001B[39;49m\u001B[43mname\u001B[49m\u001B[43m)\u001B[49m\n\u001B[1;32m   1325\u001B[0m \u001B[38;5;28;01mfor\u001B[39;00m temp_arg \u001B[38;5;129;01min\u001B[39;00m temp_args:\n\u001B[1;32m   1326\u001B[0m     \u001B[38;5;28;01mif\u001B[39;00m \u001B[38;5;28mhasattr\u001B[39m(temp_arg, \u001B[38;5;124m\"\u001B[39m\u001B[38;5;124m_detach\u001B[39m\u001B[38;5;124m\"\u001B[39m):\n\nFile \u001B[0;32m/databricks/spark/python/pyspark/errors/exceptions/captured.py:194\u001B[0m, in \u001B[0;36mcapture_sql_exception.<locals>.deco\u001B[0;34m(*a, **kw)\u001B[0m\n\u001B[1;32m    190\u001B[0m converted \u001B[38;5;241m=\u001B[39m convert_exception(e\u001B[38;5;241m.\u001B[39mjava_exception)\n\u001B[1;32m    191\u001B[0m \u001B[38;5;28;01mif\u001B[39;00m \u001B[38;5;129;01mnot\u001B[39;00m \u001B[38;5;28misinstance\u001B[39m(converted, UnknownException):\n\u001B[1;32m    192\u001B[0m     \u001B[38;5;66;03m# Hide where the exception came from that shows a non-Pythonic\u001B[39;00m\n\u001B[1;32m    193\u001B[0m     \u001B[38;5;66;03m# JVM exception message.\u001B[39;00m\n\u001B[0;32m--> 194\u001B[0m     \u001B[38;5;28;01mraise\u001B[39;00m converted \u001B[38;5;28;01mfrom\u001B[39;00m \u001B[38;5;28mNone\u001B[39m\n\u001B[1;32m    195\u001B[0m \u001B[38;5;28;01melse\u001B[39;00m:\n\u001B[1;32m    196\u001B[0m     \u001B[38;5;28;01mraise\u001B[39;00m\n\n\u001B[0;31mIllegalArgumentException\u001B[0m: requirement failed: rawPredictionCol vectors must have length=2, but got 5",
       "errorSummary": "<span class='ansi-red-fg'>IllegalArgumentException</span>: requirement failed: rawPredictionCol vectors must have length=2, but got 5",
       "errorTraceType": "ansi",
       "metadata": {},
       "type": "ipynbError"
      }
     },
     "output_type": "display_data"
    }
   ],
   "source": [
    "evaluator = BinaryClassificationEvaluator(rawPredictionCol=\"rawPrediction\", labelCol=\"Severity\", metricName=\"areaUnderROC\")\n",
    "auc = evaluator.evaluate(predictions)\n",
    "print(\"Area Under ROC Curve (AUC) = %g\" % auc)"
   ]
  },
  {
   "cell_type": "code",
   "execution_count": 0,
   "metadata": {
    "application/vnd.databricks.v1+cell": {
     "cellMetadata": {
      "byteLimit": 2048000,
      "rowLimit": 10000
     },
     "inputWidgets": {},
     "nuid": "f5f39a10-a96f-4762-8b84-be22a77f3cbf",
     "showTitle": false,
     "title": ""
    }
   },
   "outputs": [
    {
     "output_type": "stream",
     "name": "stdout",
     "output_type": "stream",
     "text": [
      "Accuracy: 0.9945\nPrecision: 0.9948\nRecall: 0.9945\n"
     ]
    }
   ],
   "source": [
    "# Accuracy, Precision, and Recall\n",
    "multi_evaluator = MulticlassClassificationEvaluator(labelCol=\"Severity\", predictionCol=\"prediction\")\n",
    "accuracy = multi_evaluator.evaluate(predictions, {multi_evaluator.metricName: \"accuracy\"})\n",
    "precision = multi_evaluator.evaluate(predictions, {multi_evaluator.metricName: \"weightedPrecision\"})\n",
    "recall = multi_evaluator.evaluate(predictions, {multi_evaluator.metricName: \"weightedRecall\"})\n",
    "\n",
    "#print(f\"AUC-ROC: {AUC:.4f}\")\n",
    "print(f\"Accuracy: {accuracy:.4f}\")\n",
    "print(f\"Precision: {precision:.4f}\")\n",
    "print(f\"Recall: {recall:.4f}\")"
   ]
  },
  {
   "cell_type": "markdown",
   "metadata": {
    "application/vnd.databricks.v1+cell": {
     "cellMetadata": {},
     "inputWidgets": {},
     "nuid": "e4bb3714-2327-4d5c-8d43-84a8bfd5cad3",
     "showTitle": false,
     "title": ""
    }
   },
   "source": [
    "# DECISION TREES"
   ]
  },
  {
   "cell_type": "code",
   "execution_count": 0,
   "metadata": {
    "application/vnd.databricks.v1+cell": {
     "cellMetadata": {
      "byteLimit": 2048000,
      "rowLimit": 10000
     },
     "inputWidgets": {},
     "nuid": "cc16765a-b8ae-47fd-b6e2-3b6b514703a1",
     "showTitle": false,
     "title": ""
    }
   },
   "outputs": [],
   "source": [
    "from pyspark.ml.classification import DecisionTreeClassifier"
   ]
  },
  {
   "cell_type": "code",
   "execution_count": 0,
   "metadata": {
    "application/vnd.databricks.v1+cell": {
     "cellMetadata": {
      "byteLimit": 2048000,
      "rowLimit": 10000
     },
     "inputWidgets": {},
     "nuid": "1a6c9aba-d7c8-4dc7-9925-a8066726bab6",
     "showTitle": false,
     "title": ""
    }
   },
   "outputs": [],
   "source": [
    "tree = DecisionTreeClassifier(featuresCol='features',labelCol='Severity',maxDepth=5,maxBins=32)\n",
    "tree_model = tree.fit(train_data)"
   ]
  },
  {
   "cell_type": "code",
   "execution_count": 0,
   "metadata": {
    "application/vnd.databricks.v1+cell": {
     "cellMetadata": {
      "byteLimit": 2048000,
      "rowLimit": 10000
     },
     "inputWidgets": {},
     "nuid": "f517688b-b7da-42c0-a69c-81f19630c9a7",
     "showTitle": false,
     "title": ""
    }
   },
   "outputs": [],
   "source": [
    "# Create predictions on test data\n",
    "pred_dt= tree_model.transform(test_data)"
   ]
  },
  {
   "cell_type": "code",
   "execution_count": 0,
   "metadata": {
    "application/vnd.databricks.v1+cell": {
     "cellMetadata": {
      "byteLimit": 2048000,
      "rowLimit": 10000
     },
     "inputWidgets": {},
     "nuid": "f414e70c-0742-4d17-a683-34e8d89ecef5",
     "showTitle": false,
     "title": ""
    }
   },
   "outputs": [
    {
     "output_type": "execute_result",
     "data": {
      "text/plain": [
       "SparseVector(64739, {64712: 1.0})"
      ]
     },
     "execution_count": 47,
     "metadata": {},
     "output_type": "execute_result"
    }
   ],
   "source": [
    "tree_model.featureImportances"
   ]
  },
  {
   "cell_type": "code",
   "execution_count": 0,
   "metadata": {
    "application/vnd.databricks.v1+cell": {
     "cellMetadata": {
      "byteLimit": 2048000,
      "rowLimit": 10000
     },
     "inputWidgets": {},
     "nuid": "a33d9d86-7318-4be6-b9d4-590ab8063ebd",
     "showTitle": false,
     "title": ""
    }
   },
   "outputs": [
    {
     "output_type": "stream",
     "name": "stdout",
     "output_type": "stream",
     "text": [
      "Accuracy: 1.0000\nPrecision: 1.0000\nRecall: 1.0000\n"
     ]
    }
   ],
   "source": [
    "# Accuracy, Precision, and Recall\n",
    "multi_evaluator = MulticlassClassificationEvaluator(labelCol=\"Severity\", predictionCol=\"prediction\")\n",
    "accuracy = multi_evaluator.evaluate(pred_dt, {multi_evaluator.metricName: \"accuracy\"})\n",
    "precision = multi_evaluator.evaluate(pred_dt, {multi_evaluator.metricName: \"weightedPrecision\"})\n",
    "recall = multi_evaluator.evaluate(pred_dt, {multi_evaluator.metricName: \"weightedRecall\"})\n",
    "\n",
    "#print(f\"AUC-ROC: {AUC:.4f}\")\n",
    "print(f\"Accuracy: {accuracy:.4f}\")\n",
    "print(f\"Precision: {precision:.4f}\")\n",
    "print(f\"Recall: {recall:.4f}\")"
   ]
  },
  {
   "cell_type": "markdown",
   "metadata": {
    "application/vnd.databricks.v1+cell": {
     "cellMetadata": {},
     "inputWidgets": {},
     "nuid": "4b6339d5-6aca-4d31-ba1d-ef4e832dd824",
     "showTitle": false,
     "title": ""
    }
   },
   "source": [
    "# RANDOM FOREST CLASSIFIER"
   ]
  },
  {
   "cell_type": "code",
   "execution_count": 0,
   "metadata": {
    "application/vnd.databricks.v1+cell": {
     "cellMetadata": {
      "byteLimit": 2048000,
      "rowLimit": 10000
     },
     "inputWidgets": {},
     "nuid": "d570824e-48c2-41dc-8d65-7ec0fec4b9c1",
     "showTitle": false,
     "title": ""
    }
   },
   "outputs": [],
   "source": [
    "from pyspark.ml.classification import RandomForestClassifier"
   ]
  },
  {
   "cell_type": "code",
   "execution_count": 0,
   "metadata": {
    "application/vnd.databricks.v1+cell": {
     "cellMetadata": {
      "byteLimit": 2048000,
      "rowLimit": 10000
     },
     "inputWidgets": {},
     "nuid": "6e16f34a-a9a2-4d52-95c6-c73b36e30fe4",
     "showTitle": false,
     "title": ""
    }
   },
   "outputs": [],
   "source": [
    "rfc = RandomForestClassifier(numTrees=10, maxDepth=5, labelCol=\"Severity\", seed=1)\n",
    "model = rfc.fit(train_data)"
   ]
  },
  {
   "cell_type": "code",
   "execution_count": 0,
   "metadata": {
    "application/vnd.databricks.v1+cell": {
     "cellMetadata": {
      "byteLimit": 2048000,
      "rowLimit": 10000
     },
     "inputWidgets": {},
     "nuid": "c4be8e3a-6798-46d8-a04e-910328cfcf5b",
     "showTitle": false,
     "title": ""
    }
   },
   "outputs": [],
   "source": [
    "predictions_rf = model.transform(test_data)"
   ]
  },
  {
   "cell_type": "code",
   "execution_count": 0,
   "metadata": {
    "application/vnd.databricks.v1+cell": {
     "cellMetadata": {
      "byteLimit": 2048000,
      "rowLimit": 10000
     },
     "inputWidgets": {},
     "nuid": "8fd5584f-1b1d-4642-a278-74a1f4a14768",
     "showTitle": false,
     "title": ""
    }
   },
   "outputs": [
    {
     "output_type": "stream",
     "name": "stdout",
     "output_type": "stream",
     "text": [
      "Accuracy: 0.9571\nPrecision: 0.9161\nRecall: 0.9571\n"
     ]
    }
   ],
   "source": [
    "# Accuracy, Precision, and Recall\n",
    "multi_evaluator = MulticlassClassificationEvaluator(labelCol=\"Severity\", predictionCol=\"prediction\")\n",
    "accuracy = multi_evaluator.evaluate(predictions_rf, {multi_evaluator.metricName: \"accuracy\"})\n",
    "precision = multi_evaluator.evaluate(predictions_rf, {multi_evaluator.metricName: \"weightedPrecision\"})\n",
    "recall = multi_evaluator.evaluate(predictions_rf, {multi_evaluator.metricName: \"weightedRecall\"})\n",
    "\n",
    "#print(f\"AUC-ROC: {AUC:.4f}\")\n",
    "print(f\"Accuracy: {accuracy:.4f}\")\n",
    "print(f\"Precision: {precision:.4f}\")\n",
    "print(f\"Recall: {recall:.4f}\")"
   ]
  },
  {
   "cell_type": "code",
   "execution_count": 0,
   "metadata": {
    "application/vnd.databricks.v1+cell": {
     "cellMetadata": {},
     "inputWidgets": {},
     "nuid": "3e7629b7-e557-4d54-8cdf-f7b97438b55d",
     "showTitle": false,
     "title": ""
    }
   },
   "outputs": [],
   "source": []
  },
  {
   "cell_type": "code",
   "execution_count": 0,
   "metadata": {
    "application/vnd.databricks.v1+cell": {
     "cellMetadata": {},
     "inputWidgets": {},
     "nuid": "ed88d008-24d1-403e-813c-67cc38fe3389",
     "showTitle": false,
     "title": ""
    }
   },
   "outputs": [],
   "source": []
  }
 ],
 "metadata": {
  "application/vnd.databricks.v1+notebook": {
   "dashboards": [],
   "language": "python",
   "notebookMetadata": {
    "mostRecentlyExecutedCommandWithImplicitDF": {
     "commandId": 1487171701953443,
     "dataframes": [
      "_sqldf"
     ]
    },
    "pythonIndentUnit": 4
   },
   "notebookName": "MACHINE_LEARNING_MODEL_BUILDING",
   "widgets": {}
  }
 },
 "nbformat": 4,
 "nbformat_minor": 0
}
